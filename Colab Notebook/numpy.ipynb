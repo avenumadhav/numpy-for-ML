{
  "nbformat": 4,
  "nbformat_minor": 0,
  "metadata": {
    "colab": {
      "name": "numpy.ipynb",
      "provenance": [],
      "collapsed_sections": []
    },
    "kernelspec": {
      "name": "python3",
      "display_name": "Python 3"
    },
    "language_info": {
      "name": "python"
    }
  },
  "cells": [
    {
      "cell_type": "markdown",
      "source": [
        "# 1. Introduction \n",
        "\n",
        "### Advantages of numpy array over lists\n",
        "- Consumes less memory.\n",
        "- Fast compared to the python List.\n",
        "- Flexibility in operations."
      ],
      "metadata": {
        "id": "eynZjxeBteFr"
      }
    },
    {
      "cell_type": "code",
      "source": [
        "# Source: https://www.geeksforgeeks.org/python-lists-vs-numpy-arrays/"
      ],
      "metadata": {
        "id": "Dx-Nhs_rafD5"
      },
      "execution_count": null,
      "outputs": []
    },
    {
      "cell_type": "markdown",
      "source": [
        "##### Demo 1: Memory Comparision\n",
        "\n",
        "\n"
      ],
      "metadata": {
        "id": "eSgvm-kp4MOF"
      }
    },
    {
      "cell_type": "code",
      "source": [
        "import numpy as np\n",
        "import sys\n",
        "\n",
        "lst = [1,2,3,4,5,6]\n",
        "print(lst, type(lst), len(lst))\n",
        "print(sys.getsizeof(lst))\n",
        "print(sys.getsizeof(lst)*len(lst))\n",
        "\n",
        "arr = np.array(lst)\n",
        "print(arr, type(arr), arr.size )\n",
        "print(arr.itemsize)\n",
        "print((arr.itemsize)*arr.size)\n"
      ],
      "metadata": {
        "id": "WUxphXFm3SQk",
        "colab": {
          "base_uri": "https://localhost:8080/"
        },
        "outputId": "9e40cc86-e487-4ec8-f55f-1f153fb552e2"
      },
      "execution_count": null,
      "outputs": [
        {
          "output_type": "stream",
          "name": "stdout",
          "text": [
            "[1, 2, 3, 4, 5, 6] <class 'list'> 6\n",
            "120\n",
            "720\n",
            "[1 2 3 4 5 6] <class 'numpy.ndarray'> 6\n",
            "8\n",
            "48\n"
          ]
        }
      ]
    },
    {
      "cell_type": "markdown",
      "source": [
        "##### Demo 2: Speed Comparision\n"
      ],
      "metadata": {
        "id": "E6m44T4x__5l"
      }
    },
    {
      "cell_type": "code",
      "source": [
        "import time\n",
        "\n",
        "size = 1000000\n",
        "a = range(size)\n",
        "b = range(size)\n",
        "\n",
        "start = time.perf_counter()\n",
        "#list(zip(a,b))\n",
        "[(i*j) for i,j in zip(a,b)]\n",
        "end = time.perf_counter()\n",
        "\n",
        "elapsed = end - start\n",
        "print(elapsed)\n",
        "\n",
        "x = np.arange(size)\n",
        "y = np.arange(size)\n",
        "start = time.perf_counter()\n",
        "z = x * y\n",
        "end = time.perf_counter()\n",
        "\n",
        "elapsed = end - start\n",
        "print(elapsed)"
      ],
      "metadata": {
        "colab": {
          "base_uri": "https://localhost:8080/"
        },
        "id": "pydqy3-X__Fg",
        "outputId": "a8065cd3-8da1-4f7e-b876-d92ed2bbec1f"
      },
      "execution_count": null,
      "outputs": [
        {
          "output_type": "stream",
          "name": "stdout",
          "text": [
            "0.14034410900012517\n",
            "0.0021736119997513015\n"
          ]
        }
      ]
    },
    {
      "cell_type": "markdown",
      "source": [
        "##### Demo 3: Flexibility\n"
      ],
      "metadata": {
        "id": "s0HS0X7CQjUt"
      }
    },
    {
      "cell_type": "code",
      "source": [
        "arr = np.array([1,2,3,4])\n",
        "print(arr+2)"
      ],
      "metadata": {
        "id": "YbzVOKNPHZzZ",
        "colab": {
          "base_uri": "https://localhost:8080/"
        },
        "outputId": "c5a10b4a-0349-41be-af13-0a445e80af27"
      },
      "execution_count": null,
      "outputs": [
        {
          "output_type": "stream",
          "name": "stdout",
          "text": [
            "[3 4 5 6]\n"
          ]
        }
      ]
    },
    {
      "cell_type": "markdown",
      "source": [
        "# 2. Generating numpy array\n",
        "1. np.array(list/tuple)\n",
        "2. np.arange(start, stop, step)\n",
        "3. np.linspace(start, stop, #spacedValues from start to stop)\n",
        "4. np.zeros()\n",
        "5. np.ones()\n",
        "6. np.eye()\n",
        "7. np.random.rand(#rows, #columns)\n",
        "8. np.random.randn(#rows, #columns)\n",
        "9. np.random.randint(start, stop, #randomValues from start to stop)"
      ],
      "metadata": {
        "id": "N-FAAEgatsr9"
      }
    },
    {
      "cell_type": "markdown",
      "source": [
        "### Method I:  np.array(  list/tuple  )"
      ],
      "metadata": {
        "id": "hcsBk2-Nu2dj"
      }
    },
    {
      "cell_type": "code",
      "source": [
        "import numpy as np\n",
        "\n",
        "a = np.array([[1,2],[3,4]])\n",
        "print(a, type(a), a.ndim)\n",
        "\n",
        "b = np.array((1,2))\n",
        "print(b)"
      ],
      "metadata": {
        "colab": {
          "base_uri": "https://localhost:8080/"
        },
        "id": "jOYHW5xCxV-E",
        "outputId": "ae03c8b8-cf8b-4070-b897-46d0c8fbf2b6"
      },
      "execution_count": null,
      "outputs": [
        {
          "output_type": "stream",
          "name": "stdout",
          "text": [
            "[[1 2]\n",
            " [3 4]] <class 'numpy.ndarray'> 2\n",
            "[1 2]\n"
          ]
        }
      ]
    },
    {
      "cell_type": "markdown",
      "source": [
        "### Method II: np.arange ( start, stop, step )"
      ],
      "metadata": {
        "id": "DRowuuesvGGY"
      }
    },
    {
      "cell_type": "code",
      "source": [
        "arr_c = np.arange(20)\n",
        "arr_s = np.arange(20,-1,-2)\n",
        "print('arange example:')\n",
        "print(arr_c)\n",
        "print(arr_s)"
      ],
      "metadata": {
        "colab": {
          "base_uri": "https://localhost:8080/"
        },
        "id": "bDeGzBBTRNir",
        "outputId": "5c461ac8-9892-46d7-b031-f46ae9ce04fa"
      },
      "execution_count": null,
      "outputs": [
        {
          "output_type": "stream",
          "name": "stdout",
          "text": [
            "arange example:\n",
            "[ 0  1  2  3  4  5  6  7  8  9 10 11 12 13 14 15 16 17 18 19]\n",
            "[20 18 16 14 12 10  8  6  4  2  0]\n"
          ]
        }
      ]
    },
    {
      "cell_type": "markdown",
      "source": [
        "### Method III: np.linspace(start, stop, #values from start to stop) "
      ],
      "metadata": {
        "id": "XB53p-LovGhQ"
      }
    },
    {
      "cell_type": "code",
      "source": [
        "linspace_array = np.linspace(0,10,30)\n",
        "\n",
        "print('linspace example:')\n",
        "print(linspace_array)"
      ],
      "metadata": {
        "colab": {
          "base_uri": "https://localhost:8080/"
        },
        "id": "-OgWWS3pSDnq",
        "outputId": "6b103b20-233d-47c5-af58-95d06dfcdbae"
      },
      "execution_count": null,
      "outputs": [
        {
          "output_type": "stream",
          "name": "stdout",
          "text": [
            "linspace example:\n",
            "[ 0.          0.34482759  0.68965517  1.03448276  1.37931034  1.72413793\n",
            "  2.06896552  2.4137931   2.75862069  3.10344828  3.44827586  3.79310345\n",
            "  4.13793103  4.48275862  4.82758621  5.17241379  5.51724138  5.86206897\n",
            "  6.20689655  6.55172414  6.89655172  7.24137931  7.5862069   7.93103448\n",
            "  8.27586207  8.62068966  8.96551724  9.31034483  9.65517241 10.        ]\n"
          ]
        }
      ]
    },
    {
      "cell_type": "markdown",
      "source": [
        "### Method IV: np.zeros (  )"
      ],
      "metadata": {
        "id": "uzBTE-33vGu4"
      }
    },
    {
      "cell_type": "code",
      "source": [
        "# .zeros() built-in method is used\n",
        "# generates array of zeroes\n",
        "# tuple parameter = multi-dimension\n",
        "\n",
        "\n",
        "z_1d = np.zeros(3) #if the argument is a single number => 1 dimensional\n",
        "print('1 dimensional:')\n",
        "print(z_1d)\n",
        "\n",
        "z_2d = np.zeros((3,5)) #if argument is tuple => 2 dimensional\n",
        "print('2 dimensional:')\n",
        "print(z_2d)\n",
        "\n",
        "z_3d = np.zeros((3,5,2)) #if argument is tuple with 3 elements => 3 dimensional\n",
        "print('3 dimensional:')\n",
        "print(z_3d)\n"
      ],
      "metadata": {
        "colab": {
          "base_uri": "https://localhost:8080/"
        },
        "id": "Mm-Bh3QeS7IQ",
        "outputId": "cfc5d353-4d5e-4199-fe24-a8d8bc30f1ec"
      },
      "execution_count": null,
      "outputs": [
        {
          "output_type": "stream",
          "name": "stdout",
          "text": [
            "1 dimensional:\n",
            "[0. 0. 0.]\n",
            "2 dimensional:\n",
            "[[0. 0. 0. 0. 0.]\n",
            " [0. 0. 0. 0. 0.]\n",
            " [0. 0. 0. 0. 0.]]\n",
            "3 dimensional:\n",
            "[[[0. 0.]\n",
            "  [0. 0.]\n",
            "  [0. 0.]\n",
            "  [0. 0.]\n",
            "  [0. 0.]]\n",
            "\n",
            " [[0. 0.]\n",
            "  [0. 0.]\n",
            "  [0. 0.]\n",
            "  [0. 0.]\n",
            "  [0. 0.]]\n",
            "\n",
            " [[0. 0.]\n",
            "  [0. 0.]\n",
            "  [0. 0.]\n",
            "  [0. 0.]\n",
            "  [0. 0.]]]\n"
          ]
        }
      ]
    },
    {
      "cell_type": "markdown",
      "source": [
        "### Method V: np.ones (  )"
      ],
      "metadata": {
        "id": "vrHIEiW5vG5I"
      }
    },
    {
      "cell_type": "code",
      "source": [
        "import numpy as np"
      ],
      "metadata": {
        "id": "g4AlKpj-LAk1"
      },
      "execution_count": 2,
      "outputs": []
    },
    {
      "cell_type": "code",
      "source": [
        "# .ones() built-in method is used\n",
        "# generates array of ones\n",
        "# 1 parameter with tuple = multi-dimension\n",
        "\n",
        "ones_1d = np.ones(3)\n",
        "print('1d example:')\n",
        "print(ones_1d)\n",
        "\n",
        "ones_2d = np.ones((3,5))\n",
        "print('2d example')\n",
        "print(ones_2d)\n",
        "\n",
        "ones_3d = np.ones((3,5,2))\n",
        "print('3d example')\n",
        "print(ones_3d)"
      ],
      "metadata": {
        "colab": {
          "base_uri": "https://localhost:8080/"
        },
        "id": "uJsjdCSHUOQh",
        "outputId": "42c628f4-7bda-43c0-bfe3-f11408e4af98"
      },
      "execution_count": 7,
      "outputs": [
        {
          "output_type": "stream",
          "name": "stdout",
          "text": [
            "1d example:\n",
            "[1. 1. 1.]\n",
            "2d example\n",
            "[[1. 1. 1. 1. 1.]\n",
            " [1. 1. 1. 1. 1.]\n",
            " [1. 1. 1. 1. 1.]]\n",
            "3d example\n",
            "[[[1. 1.]\n",
            "  [1. 1.]\n",
            "  [1. 1.]\n",
            "  [1. 1.]\n",
            "  [1. 1.]]\n",
            "\n",
            " [[1. 1.]\n",
            "  [1. 1.]\n",
            "  [1. 1.]\n",
            "  [1. 1.]\n",
            "  [1. 1.]]\n",
            "\n",
            " [[1. 1.]\n",
            "  [1. 1.]\n",
            "  [1. 1.]\n",
            "  [1. 1.]\n",
            "  [1. 1.]]]\n"
          ]
        }
      ]
    },
    {
      "cell_type": "markdown",
      "source": [
        "### Method VI: np.eye (  )"
      ],
      "metadata": {
        "id": "dOZarNU_vHC3"
      }
    },
    {
      "cell_type": "code",
      "source": [
        "# .eye() built-in method is used\n",
        "# generates identity matrix\n",
        "\n",
        "id_arr = np.eye(3) # only 1 parameter => 3 x 3 identitiy matrix\n",
        "print('Square Matrix:')\n",
        "print(id_arr)\n",
        "\n",
        "id_arr = np.eye(3,5) # 2 parameter => 3rows x 5columns identitiy TYPE matrix\n",
        "print('Non-Square Matrix:')\n",
        "print(id_arr)"
      ],
      "metadata": {
        "colab": {
          "base_uri": "https://localhost:8080/"
        },
        "id": "wNm59liSU-1U",
        "outputId": "530f588a-0633-40b0-8a57-db240dd8f215"
      },
      "execution_count": null,
      "outputs": [
        {
          "output_type": "stream",
          "name": "stdout",
          "text": [
            "Square Matrix:\n",
            "[[1. 0. 0.]\n",
            " [0. 1. 0.]\n",
            " [0. 0. 1.]]\n",
            "Non-Square Matrix:\n",
            "[[1. 0. 0. 0. 0.]\n",
            " [0. 1. 0. 0. 0.]\n",
            " [0. 0. 1. 0. 0.]]\n"
          ]
        }
      ]
    },
    {
      "cell_type": "markdown",
      "source": [
        "### Method VII: np.random.rand ( #rows, #columns )\n"
      ],
      "metadata": {
        "id": "gS7KeZS2vHLo"
      }
    },
    {
      "cell_type": "code",
      "source": [
        "# .random.rand(#rows, #columns) method\n",
        "\n",
        "random_array = np.random.rand(5,2) #2 parameters => 5rows x 2columns \n",
        "print('5 x 2 random array:')\n",
        "print(random_array)\n",
        "\n",
        "random_array2 = np.random.rand(3) #1 parameter => 1row x 3columns\n",
        "print('1 x 3 random array:')\n",
        "print(random_array2)"
      ],
      "metadata": {
        "colab": {
          "base_uri": "https://localhost:8080/"
        },
        "id": "mjqGl9qoWYL9",
        "outputId": "f538482c-35f2-4458-b43e-61c640bac5f6"
      },
      "execution_count": null,
      "outputs": [
        {
          "output_type": "stream",
          "name": "stdout",
          "text": [
            "5 x 2 random array:\n",
            "[[0.15992744 0.51792527]\n",
            " [0.80849759 0.48930272]\n",
            " [0.59310142 0.26442563]\n",
            " [0.070083   0.00157866]\n",
            " [0.09080352 0.78161178]]\n",
            "1 x 3 random array:\n",
            "[0.28355494 0.31760109 0.75165607]\n"
          ]
        }
      ]
    },
    {
      "cell_type": "markdown",
      "source": [
        "### Method VIII: np.random.randn( #rows, #columns )"
      ],
      "metadata": {
        "id": "s8SX02uxvHUR"
      }
    },
    {
      "cell_type": "code",
      "source": [
        "# .random.randn(#rows, #columns) method\n",
        "# generates normalized values (mean = 0, std_dev = 1)\n",
        "# stand normal distribution, bell shaped values\n",
        "\n",
        "randN = np.random.randn(5,2)\n",
        "print('5 x 2 random array:')\n",
        "print(randN)\n",
        "\n",
        "randN2 = np.random.randn(3)\n",
        "print('1 x 3 random array:')\n",
        "print((randN2,2))"
      ],
      "metadata": {
        "colab": {
          "base_uri": "https://localhost:8080/"
        },
        "id": "83z1ml6yXXoO",
        "outputId": "22470c85-d3fa-4cd5-836e-dbf7de5333a8"
      },
      "execution_count": null,
      "outputs": [
        {
          "output_type": "stream",
          "name": "stdout",
          "text": [
            "5 x 2 random array:\n",
            "[[ 0.43737753 -0.01428691]\n",
            " [-0.29343017 -0.91590753]\n",
            " [-1.94454073 -0.90251709]\n",
            " [ 0.62941412 -0.61093424]\n",
            " [-0.43597134 -1.55244628]]\n",
            "1 x 3 random array:\n",
            "(array([1.68713952, 0.05169198, 0.86571295]), 2)\n"
          ]
        }
      ]
    },
    {
      "cell_type": "markdown",
      "source": [
        "### Method IX: np.random.randint ( start(in), stop(ex), #values)"
      ],
      "metadata": {
        "id": "lAwveXP4vHbX"
      }
    },
    {
      "cell_type": "code",
      "source": [
        "# .random.randint(start(in), stop(ex), #values) method\n",
        "# generates random integer array\n",
        "# first 2 parameters are range: including to excluding, 3rd is # of values\n",
        "# always a 1 dimensional array\n",
        "\n",
        "# random_int_array2 = np.random.randint(1,7) #2 parameters only\n",
        "# print(random_int_array2)\n",
        "\n",
        "random_int_array = np.random.randint(1,700, 5) #2 parameters only\n",
        "print(random_int_array)"
      ],
      "metadata": {
        "colab": {
          "base_uri": "https://localhost:8080/"
        },
        "id": "pNsOZiuqX_oo",
        "outputId": "84063362-6a96-459d-c964-8d05949f68b9"
      },
      "execution_count": null,
      "outputs": [
        {
          "output_type": "stream",
          "name": "stdout",
          "text": [
            "[149 107 234  76  27]\n"
          ]
        }
      ]
    },
    {
      "cell_type": "code",
      "source": [
        "np.array([1,2,3])"
      ],
      "metadata": {
        "colab": {
          "base_uri": "https://localhost:8080/"
        },
        "id": "MZtvqPe6AL6q",
        "outputId": "beb20cfe-8d3c-4087-e238-64679ae5f363"
      },
      "execution_count": null,
      "outputs": [
        {
          "output_type": "execute_result",
          "data": {
            "text/plain": [
              "array([1, 2, 3])"
            ]
          },
          "metadata": {},
          "execution_count": 91
        }
      ]
    },
    {
      "cell_type": "code",
      "source": [
        "np.arange(1000)"
      ],
      "metadata": {
        "colab": {
          "base_uri": "https://localhost:8080/"
        },
        "id": "w3-FyhX_L9aY",
        "outputId": "6ce89386-bc8d-45b8-edd7-0a0f387f80a4"
      },
      "execution_count": null,
      "outputs": [
        {
          "output_type": "execute_result",
          "data": {
            "text/plain": [
              "array([  0,   1,   2,   3,   4,   5,   6,   7,   8,   9,  10,  11,  12,\n",
              "        13,  14,  15,  16,  17,  18,  19,  20,  21,  22,  23,  24,  25,\n",
              "        26,  27,  28,  29,  30,  31,  32,  33,  34,  35,  36,  37,  38,\n",
              "        39,  40,  41,  42,  43,  44,  45,  46,  47,  48,  49,  50,  51,\n",
              "        52,  53,  54,  55,  56,  57,  58,  59,  60,  61,  62,  63,  64,\n",
              "        65,  66,  67,  68,  69,  70,  71,  72,  73,  74,  75,  76,  77,\n",
              "        78,  79,  80,  81,  82,  83,  84,  85,  86,  87,  88,  89,  90,\n",
              "        91,  92,  93,  94,  95,  96,  97,  98,  99, 100, 101, 102, 103,\n",
              "       104, 105, 106, 107, 108, 109, 110, 111, 112, 113, 114, 115, 116,\n",
              "       117, 118, 119, 120, 121, 122, 123, 124, 125, 126, 127, 128, 129,\n",
              "       130, 131, 132, 133, 134, 135, 136, 137, 138, 139, 140, 141, 142,\n",
              "       143, 144, 145, 146, 147, 148, 149, 150, 151, 152, 153, 154, 155,\n",
              "       156, 157, 158, 159, 160, 161, 162, 163, 164, 165, 166, 167, 168,\n",
              "       169, 170, 171, 172, 173, 174, 175, 176, 177, 178, 179, 180, 181,\n",
              "       182, 183, 184, 185, 186, 187, 188, 189, 190, 191, 192, 193, 194,\n",
              "       195, 196, 197, 198, 199, 200, 201, 202, 203, 204, 205, 206, 207,\n",
              "       208, 209, 210, 211, 212, 213, 214, 215, 216, 217, 218, 219, 220,\n",
              "       221, 222, 223, 224, 225, 226, 227, 228, 229, 230, 231, 232, 233,\n",
              "       234, 235, 236, 237, 238, 239, 240, 241, 242, 243, 244, 245, 246,\n",
              "       247, 248, 249, 250, 251, 252, 253, 254, 255, 256, 257, 258, 259,\n",
              "       260, 261, 262, 263, 264, 265, 266, 267, 268, 269, 270, 271, 272,\n",
              "       273, 274, 275, 276, 277, 278, 279, 280, 281, 282, 283, 284, 285,\n",
              "       286, 287, 288, 289, 290, 291, 292, 293, 294, 295, 296, 297, 298,\n",
              "       299, 300, 301, 302, 303, 304, 305, 306, 307, 308, 309, 310, 311,\n",
              "       312, 313, 314, 315, 316, 317, 318, 319, 320, 321, 322, 323, 324,\n",
              "       325, 326, 327, 328, 329, 330, 331, 332, 333, 334, 335, 336, 337,\n",
              "       338, 339, 340, 341, 342, 343, 344, 345, 346, 347, 348, 349, 350,\n",
              "       351, 352, 353, 354, 355, 356, 357, 358, 359, 360, 361, 362, 363,\n",
              "       364, 365, 366, 367, 368, 369, 370, 371, 372, 373, 374, 375, 376,\n",
              "       377, 378, 379, 380, 381, 382, 383, 384, 385, 386, 387, 388, 389,\n",
              "       390, 391, 392, 393, 394, 395, 396, 397, 398, 399, 400, 401, 402,\n",
              "       403, 404, 405, 406, 407, 408, 409, 410, 411, 412, 413, 414, 415,\n",
              "       416, 417, 418, 419, 420, 421, 422, 423, 424, 425, 426, 427, 428,\n",
              "       429, 430, 431, 432, 433, 434, 435, 436, 437, 438, 439, 440, 441,\n",
              "       442, 443, 444, 445, 446, 447, 448, 449, 450, 451, 452, 453, 454,\n",
              "       455, 456, 457, 458, 459, 460, 461, 462, 463, 464, 465, 466, 467,\n",
              "       468, 469, 470, 471, 472, 473, 474, 475, 476, 477, 478, 479, 480,\n",
              "       481, 482, 483, 484, 485, 486, 487, 488, 489, 490, 491, 492, 493,\n",
              "       494, 495, 496, 497, 498, 499, 500, 501, 502, 503, 504, 505, 506,\n",
              "       507, 508, 509, 510, 511, 512, 513, 514, 515, 516, 517, 518, 519,\n",
              "       520, 521, 522, 523, 524, 525, 526, 527, 528, 529, 530, 531, 532,\n",
              "       533, 534, 535, 536, 537, 538, 539, 540, 541, 542, 543, 544, 545,\n",
              "       546, 547, 548, 549, 550, 551, 552, 553, 554, 555, 556, 557, 558,\n",
              "       559, 560, 561, 562, 563, 564, 565, 566, 567, 568, 569, 570, 571,\n",
              "       572, 573, 574, 575, 576, 577, 578, 579, 580, 581, 582, 583, 584,\n",
              "       585, 586, 587, 588, 589, 590, 591, 592, 593, 594, 595, 596, 597,\n",
              "       598, 599, 600, 601, 602, 603, 604, 605, 606, 607, 608, 609, 610,\n",
              "       611, 612, 613, 614, 615, 616, 617, 618, 619, 620, 621, 622, 623,\n",
              "       624, 625, 626, 627, 628, 629, 630, 631, 632, 633, 634, 635, 636,\n",
              "       637, 638, 639, 640, 641, 642, 643, 644, 645, 646, 647, 648, 649,\n",
              "       650, 651, 652, 653, 654, 655, 656, 657, 658, 659, 660, 661, 662,\n",
              "       663, 664, 665, 666, 667, 668, 669, 670, 671, 672, 673, 674, 675,\n",
              "       676, 677, 678, 679, 680, 681, 682, 683, 684, 685, 686, 687, 688,\n",
              "       689, 690, 691, 692, 693, 694, 695, 696, 697, 698, 699, 700, 701,\n",
              "       702, 703, 704, 705, 706, 707, 708, 709, 710, 711, 712, 713, 714,\n",
              "       715, 716, 717, 718, 719, 720, 721, 722, 723, 724, 725, 726, 727,\n",
              "       728, 729, 730, 731, 732, 733, 734, 735, 736, 737, 738, 739, 740,\n",
              "       741, 742, 743, 744, 745, 746, 747, 748, 749, 750, 751, 752, 753,\n",
              "       754, 755, 756, 757, 758, 759, 760, 761, 762, 763, 764, 765, 766,\n",
              "       767, 768, 769, 770, 771, 772, 773, 774, 775, 776, 777, 778, 779,\n",
              "       780, 781, 782, 783, 784, 785, 786, 787, 788, 789, 790, 791, 792,\n",
              "       793, 794, 795, 796, 797, 798, 799, 800, 801, 802, 803, 804, 805,\n",
              "       806, 807, 808, 809, 810, 811, 812, 813, 814, 815, 816, 817, 818,\n",
              "       819, 820, 821, 822, 823, 824, 825, 826, 827, 828, 829, 830, 831,\n",
              "       832, 833, 834, 835, 836, 837, 838, 839, 840, 841, 842, 843, 844,\n",
              "       845, 846, 847, 848, 849, 850, 851, 852, 853, 854, 855, 856, 857,\n",
              "       858, 859, 860, 861, 862, 863, 864, 865, 866, 867, 868, 869, 870,\n",
              "       871, 872, 873, 874, 875, 876, 877, 878, 879, 880, 881, 882, 883,\n",
              "       884, 885, 886, 887, 888, 889, 890, 891, 892, 893, 894, 895, 896,\n",
              "       897, 898, 899, 900, 901, 902, 903, 904, 905, 906, 907, 908, 909,\n",
              "       910, 911, 912, 913, 914, 915, 916, 917, 918, 919, 920, 921, 922,\n",
              "       923, 924, 925, 926, 927, 928, 929, 930, 931, 932, 933, 934, 935,\n",
              "       936, 937, 938, 939, 940, 941, 942, 943, 944, 945, 946, 947, 948,\n",
              "       949, 950, 951, 952, 953, 954, 955, 956, 957, 958, 959, 960, 961,\n",
              "       962, 963, 964, 965, 966, 967, 968, 969, 970, 971, 972, 973, 974,\n",
              "       975, 976, 977, 978, 979, 980, 981, 982, 983, 984, 985, 986, 987,\n",
              "       988, 989, 990, 991, 992, 993, 994, 995, 996, 997, 998, 999])"
            ]
          },
          "metadata": {},
          "execution_count": 92
        }
      ]
    },
    {
      "cell_type": "code",
      "source": [
        "np.linspace(25, 100, 10)"
      ],
      "metadata": {
        "colab": {
          "base_uri": "https://localhost:8080/"
        },
        "id": "yyaStgR7L9ji",
        "outputId": "cde02495-85a4-48a7-81d0-ea84249359a7"
      },
      "execution_count": null,
      "outputs": [
        {
          "output_type": "execute_result",
          "data": {
            "text/plain": [
              "array([ 25.        ,  33.33333333,  41.66666667,  50.        ,\n",
              "        58.33333333,  66.66666667,  75.        ,  83.33333333,\n",
              "        91.66666667, 100.        ])"
            ]
          },
          "metadata": {},
          "execution_count": 93
        }
      ]
    },
    {
      "cell_type": "code",
      "source": [
        "np.ones((3,2,4))"
      ],
      "metadata": {
        "colab": {
          "base_uri": "https://localhost:8080/"
        },
        "id": "K-S9s-6HL9rZ",
        "outputId": "b62e7f2a-3909-4fce-ca58-cdf62c45f967"
      },
      "execution_count": null,
      "outputs": [
        {
          "output_type": "execute_result",
          "data": {
            "text/plain": [
              "array([[[1., 1., 1., 1.],\n",
              "        [1., 1., 1., 1.]],\n",
              "\n",
              "       [[1., 1., 1., 1.],\n",
              "        [1., 1., 1., 1.]],\n",
              "\n",
              "       [[1., 1., 1., 1.],\n",
              "        [1., 1., 1., 1.]]])"
            ]
          },
          "metadata": {},
          "execution_count": 95
        }
      ]
    },
    {
      "cell_type": "code",
      "source": [
        "np.zeros((2,5,2))"
      ],
      "metadata": {
        "colab": {
          "base_uri": "https://localhost:8080/"
        },
        "id": "4upkEdKbL9zA",
        "outputId": "35a9e826-b44e-493a-8797-68e0cd1f7819"
      },
      "execution_count": null,
      "outputs": [
        {
          "output_type": "execute_result",
          "data": {
            "text/plain": [
              "array([[[0., 0.],\n",
              "        [0., 0.],\n",
              "        [0., 0.],\n",
              "        [0., 0.],\n",
              "        [0., 0.]],\n",
              "\n",
              "       [[0., 0.],\n",
              "        [0., 0.],\n",
              "        [0., 0.],\n",
              "        [0., 0.],\n",
              "        [0., 0.]]])"
            ]
          },
          "metadata": {},
          "execution_count": 98
        }
      ]
    },
    {
      "cell_type": "code",
      "source": [
        "np.random.randn(3)"
      ],
      "metadata": {
        "colab": {
          "base_uri": "https://localhost:8080/"
        },
        "id": "xekE69YbL96x",
        "outputId": "fd884474-9c2f-4da7-ef8d-7ee1e4c2462c"
      },
      "execution_count": null,
      "outputs": [
        {
          "output_type": "execute_result",
          "data": {
            "text/plain": [
              "array([-0.23643433, -1.22790105,  0.95224086])"
            ]
          },
          "metadata": {},
          "execution_count": 104
        }
      ]
    },
    {
      "cell_type": "code",
      "source": [
        "np.random.randint(12,35,10)"
      ],
      "metadata": {
        "colab": {
          "base_uri": "https://localhost:8080/"
        },
        "id": "zb-cyh_ll1wC",
        "outputId": "463fe004-8302-4a49-eb57-0ae7ea2219b1"
      },
      "execution_count": null,
      "outputs": [
        {
          "output_type": "execute_result",
          "data": {
            "text/plain": [
              "array([18, 14, 26, 30, 14, 22, 22, 22, 18, 21])"
            ]
          },
          "metadata": {},
          "execution_count": 107
        }
      ]
    },
    {
      "cell_type": "markdown",
      "source": [
        "# 3. *numpy* Methods\n",
        "- shape and reshape\n",
        "- transpose\n",
        "- basic math operations\n",
        "- methods with array as parameter"
      ],
      "metadata": {
        "id": "vZcpbpTP8erD"
      }
    },
    {
      "cell_type": "markdown",
      "source": [
        "### a. shape and reshape\n"
      ],
      "metadata": {
        "id": "key7bUy19nDu"
      }
    },
    {
      "cell_type": "code",
      "source": [
        "#.shape() -  provides dimension of the array\n",
        "#.reshape() - changes dimension of the array\n",
        "\n",
        "#shape\n",
        "# a = np.array([[1,2,3],[4,5,6]])\n",
        "# print(a)\n",
        "# print(a.shape)\n",
        "\n",
        "#1d to reshape\n",
        "x = np.random.randint(1,100,20)\n",
        "print(x)\n",
        "\n",
        "#20\n",
        "#10 x 2\n",
        "y = x.reshape(2,10)\n",
        "print(y)\n",
        "# 2 x 10\n",
        "# 5 x 4\n",
        "# 4 x 5\n",
        "# 1 x 20\n",
        "# 20 x 1\n",
        "\n",
        "#2d to reshape\n",
        "p = np.array([[1,2,3],[4,5,6]])\n",
        "print(p, p.shape)\n",
        "\n",
        "# 6\n",
        "# 2 x 3\n",
        "q = p.reshape(1,6)\n",
        "print(q)\n",
        "# 3 x 2\n",
        "# 6 x 1\n",
        "# 1 x 6\n",
        "\n",
        "#3d to reshape\n",
        "n = np.ones((5,4, 2))\n",
        "print(n, n.shape, n.ndim)\n",
        "\n",
        "# 8\n",
        "# 4 x 2\n",
        "# 8 x 1\n",
        "m = n.reshape((8,1))\n",
        "print(m)\n",
        "# 1 x 8\n",
        "# 2 x 4\n",
        "\n"
      ],
      "metadata": {
        "id": "UFgv7cJN75xw",
        "colab": {
          "base_uri": "https://localhost:8080/",
          "height": 756
        },
        "outputId": "5bffc89e-28a3-4b67-fb19-075b38a6a5e0"
      },
      "execution_count": null,
      "outputs": [
        {
          "output_type": "stream",
          "name": "stdout",
          "text": [
            "[96 50 54 43 69 11 25 24 35 94 46 87 75 74 72 60 72 30 40 60]\n",
            "[[96 50 54 43 69 11 25 24 35 94]\n",
            " [46 87 75 74 72 60 72 30 40 60]]\n",
            "[[1 2 3]\n",
            " [4 5 6]] (2, 3)\n",
            "[[1 2 3 4 5 6]]\n",
            "[[[1. 1.]\n",
            "  [1. 1.]\n",
            "  [1. 1.]\n",
            "  [1. 1.]]\n",
            "\n",
            " [[1. 1.]\n",
            "  [1. 1.]\n",
            "  [1. 1.]\n",
            "  [1. 1.]]\n",
            "\n",
            " [[1. 1.]\n",
            "  [1. 1.]\n",
            "  [1. 1.]\n",
            "  [1. 1.]]\n",
            "\n",
            " [[1. 1.]\n",
            "  [1. 1.]\n",
            "  [1. 1.]\n",
            "  [1. 1.]]\n",
            "\n",
            " [[1. 1.]\n",
            "  [1. 1.]\n",
            "  [1. 1.]\n",
            "  [1. 1.]]] (5, 4, 2) 3\n"
          ]
        },
        {
          "output_type": "error",
          "ename": "ValueError",
          "evalue": "ignored",
          "traceback": [
            "\u001b[0;31m---------------------------------------------------------------------------\u001b[0m",
            "\u001b[0;31mValueError\u001b[0m                                Traceback (most recent call last)",
            "\u001b[0;32m<ipython-input-23-2a180130745c>\u001b[0m in \u001b[0;36m<module>\u001b[0;34m()\u001b[0m\n\u001b[1;32m     40\u001b[0m \u001b[0;31m# 4 x 2\u001b[0m\u001b[0;34m\u001b[0m\u001b[0;34m\u001b[0m\u001b[0;34m\u001b[0m\u001b[0m\n\u001b[1;32m     41\u001b[0m \u001b[0;31m# 8 x 1\u001b[0m\u001b[0;34m\u001b[0m\u001b[0;34m\u001b[0m\u001b[0;34m\u001b[0m\u001b[0m\n\u001b[0;32m---> 42\u001b[0;31m \u001b[0mm\u001b[0m \u001b[0;34m=\u001b[0m \u001b[0mn\u001b[0m\u001b[0;34m.\u001b[0m\u001b[0mreshape\u001b[0m\u001b[0;34m(\u001b[0m\u001b[0;34m(\u001b[0m\u001b[0;36m8\u001b[0m\u001b[0;34m,\u001b[0m\u001b[0;36m1\u001b[0m\u001b[0;34m)\u001b[0m\u001b[0;34m)\u001b[0m\u001b[0;34m\u001b[0m\u001b[0;34m\u001b[0m\u001b[0m\n\u001b[0m\u001b[1;32m     43\u001b[0m \u001b[0mprint\u001b[0m\u001b[0;34m(\u001b[0m\u001b[0mm\u001b[0m\u001b[0;34m)\u001b[0m\u001b[0;34m\u001b[0m\u001b[0;34m\u001b[0m\u001b[0m\n\u001b[1;32m     44\u001b[0m \u001b[0;31m# 1 x 8\u001b[0m\u001b[0;34m\u001b[0m\u001b[0;34m\u001b[0m\u001b[0;34m\u001b[0m\u001b[0m\n",
            "\u001b[0;31mValueError\u001b[0m: cannot reshape array of size 40 into shape (8,1)"
          ]
        }
      ]
    },
    {
      "cell_type": "markdown",
      "source": [
        "### b. transpose\n"
      ],
      "metadata": {
        "id": "BHG2XWTb91PP"
      }
    },
    {
      "cell_type": "code",
      "source": [
        "#.T transposes an array\n",
        "x = np.array([[1,2,3],[4,5,6]])\n",
        "print(x, x.shape)\n",
        "\n",
        "y = x.T\n",
        "print(y, y.shape)\n",
        "\n",
        "\n"
      ],
      "metadata": {
        "id": "qyhsFTMB7-0h",
        "colab": {
          "base_uri": "https://localhost:8080/"
        },
        "outputId": "899c192f-098e-454d-a958-51aefc64025b"
      },
      "execution_count": null,
      "outputs": [
        {
          "output_type": "stream",
          "name": "stdout",
          "text": [
            "[[1 2 3]\n",
            " [4 5 6]] (2, 3)\n",
            "[[1 4]\n",
            " [2 5]\n",
            " [3 6]] (3, 2)\n"
          ]
        }
      ]
    },
    {
      "cell_type": "markdown",
      "source": [
        "### c. basic math operations\n"
      ],
      "metadata": {
        "id": "Nyhv9S6q941i"
      }
    },
    {
      "cell_type": "code",
      "source": [
        "x = np.random.randint(1, 100, 20)\n",
        "x_new = x.reshape(5,4)\n",
        "\n",
        "print('x_new:\\n', x_new)\n",
        "print('multiply by 2\\n', x_new*2)\n",
        "print('add 2\\n', x_new+2)\n",
        "print('divide by 2\\n', x_new/2)\n",
        "print('power of 5\\n', x_new**5)\n",
        "print('multiply by iteself\\n', x_new * x_new)\n",
        "print('multiply by itself thrice\\n', x_new * x_new * x_new)"
      ],
      "metadata": {
        "colab": {
          "base_uri": "https://localhost:8080/"
        },
        "id": "VWMUlqShL-KB",
        "outputId": "525b2fbc-c797-4e99-c4e8-fc1e71bf27b2"
      },
      "execution_count": null,
      "outputs": [
        {
          "output_type": "stream",
          "name": "stdout",
          "text": [
            "x_new:\n",
            " [[52 60 15 63]\n",
            " [48 70 95 11]\n",
            " [67  1 33 41]\n",
            " [35 74 66 67]\n",
            " [55 92 95  8]]\n",
            "multiply by 2\n",
            " [[104 120  30 126]\n",
            " [ 96 140 190  22]\n",
            " [134   2  66  82]\n",
            " [ 70 148 132 134]\n",
            " [110 184 190  16]]\n",
            "add 2\n",
            " [[54 62 17 65]\n",
            " [50 72 97 13]\n",
            " [69  3 35 43]\n",
            " [37 76 68 69]\n",
            " [57 94 97 10]]\n",
            "divide by 2\n",
            " [[26.  30.   7.5 31.5]\n",
            " [24.  35.  47.5  5.5]\n",
            " [33.5  0.5 16.5 20.5]\n",
            " [17.5 37.  33.  33.5]\n",
            " [27.5 46.  47.5  4. ]]\n",
            "power of 5\n",
            " [[ 380204032  777600000     759375  992436543]\n",
            " [ 254803968 1680700000 7737809375     161051]\n",
            " [1350125107          1   39135393  115856201]\n",
            " [  52521875 2219006624 1252332576 1350125107]\n",
            " [ 503284375 6590815232 7737809375      32768]]\n",
            "multiply by iteself\n",
            " [[2704 3600  225 3969]\n",
            " [2304 4900 9025  121]\n",
            " [4489    1 1089 1681]\n",
            " [1225 5476 4356 4489]\n",
            " [3025 8464 9025   64]]\n",
            "multiply by itself thrice\n",
            " [[140608 216000   3375 250047]\n",
            " [110592 343000 857375   1331]\n",
            " [300763      1  35937  68921]\n",
            " [ 42875 405224 287496 300763]\n",
            " [166375 778688 857375    512]]\n"
          ]
        }
      ]
    },
    {
      "cell_type": "markdown",
      "source": [
        "### d. Methods with array as parameter\n",
        "- sqrt( ), max( ), min( ), argmax( ), argmin( ), log( ), sin( ), round( )"
      ],
      "metadata": {
        "id": "ezSHDfrI-X_7"
      }
    },
    {
      "cell_type": "code",
      "source": [
        "#sqrt(array)\n",
        "array_ = np.random.randint(1,100,20)\n",
        "array_ = array_.reshape(5,4)\n",
        "print('array_:')\n",
        "print(array_)\n",
        "\n",
        "print('sqrt:')\n",
        "print(np.sqrt(array_))\n",
        "#max(array)\n",
        "print('max:')\n",
        "\n",
        "print(np.max(array_))\n",
        "\n",
        "#min(array)\n",
        "print('min:')\n",
        "\n",
        "print(np.min(array_))\n",
        "\n",
        "#argmax(array)\n",
        "print('argmax:')\n",
        "\n",
        "print(np.argmax(array_))\n",
        "\n",
        "#argmin(array)\n",
        "print('argmin:')\n",
        "\n",
        "print(np.argmin(array_))\n",
        "\n",
        "#log(array)\n",
        "print('log:')\n",
        "\n",
        "print(np.log(array_))\n",
        "\n",
        "#sin(array)\n",
        "print('sin:')\n",
        "\n",
        "print(np.sin(array_))\n",
        "\n",
        "#round(array, decimals = 3)\n",
        "print('round:')\n",
        "array_n = np.random.randn(4,5)\n",
        "print(array_n)\n",
        "print(np.round(array_n, decimals =2))"
      ],
      "metadata": {
        "colab": {
          "base_uri": "https://localhost:8080/"
        },
        "id": "WpZxDqvIL-R1",
        "outputId": "85fe50e5-7d0c-44dc-e242-2c3f6ce6c504"
      },
      "execution_count": null,
      "outputs": [
        {
          "output_type": "stream",
          "name": "stdout",
          "text": [
            "array_:\n",
            "[[85 27 38 48]\n",
            " [15 49 86 59]\n",
            " [49  9 45 56]\n",
            " [85 19 16 94]\n",
            " [83 22 10 71]]\n",
            "sqrt:\n",
            "[[9.21954446 5.19615242 6.164414   6.92820323]\n",
            " [3.87298335 7.         9.2736185  7.68114575]\n",
            " [7.         3.         6.70820393 7.48331477]\n",
            " [9.21954446 4.35889894 4.         9.69535971]\n",
            " [9.11043358 4.69041576 3.16227766 8.42614977]]\n",
            "max:\n",
            "94\n",
            "min:\n",
            "9\n",
            "argmax:\n",
            "15\n",
            "argmin:\n",
            "9\n",
            "log:\n",
            "[[4.44265126 3.29583687 3.63758616 3.87120101]\n",
            " [2.7080502  3.8918203  4.4543473  4.07753744]\n",
            " [3.8918203  2.19722458 3.80666249 4.02535169]\n",
            " [4.44265126 2.94443898 2.77258872 4.54329478]\n",
            " [4.41884061 3.09104245 2.30258509 4.26267988]]\n",
            "sin:\n",
            "[[-0.17607562  0.95637593  0.29636858 -0.76825466]\n",
            " [ 0.65028784 -0.95375265 -0.92345845  0.63673801]\n",
            " [-0.95375265  0.41211849  0.85090352 -0.521551  ]\n",
            " [-0.17607562  0.14987721 -0.28790332 -0.24525199]\n",
            " [ 0.96836446 -0.00885131 -0.54402111  0.95105465]]\n",
            "round:\n",
            "[[-1.46626967 -1.5901135  -0.8354999  -0.0215463  -0.57910677]\n",
            " [-0.1904561   1.33022863 -2.00581017 -0.30838982 -0.61689339]\n",
            " [ 0.79557365 -1.09988618  0.33791976  0.86272219  1.14874471]\n",
            " [ 0.54145772 -1.4522836   1.67593692  0.44731085 -0.37789665]]\n",
            "[[-1.47 -1.59 -0.84 -0.02 -0.58]\n",
            " [-0.19  1.33 -2.01 -0.31 -0.62]\n",
            " [ 0.8  -1.1   0.34  0.86  1.15]\n",
            " [ 0.54 -1.45  1.68  0.45 -0.38]]\n"
          ]
        }
      ]
    },
    {
      "cell_type": "markdown",
      "source": [
        "### e. .dtype property\n"
      ],
      "metadata": {
        "id": "52vJt4V2-lXH"
      }
    },
    {
      "cell_type": "code",
      "source": [
        "x = np.random.randint(1,30,15)\n",
        "print(x, x.dtype)\n",
        "y = np.eye(7)\n",
        "print(y, y.dtype)"
      ],
      "metadata": {
        "id": "Nh5L6_udL-ZU",
        "colab": {
          "base_uri": "https://localhost:8080/"
        },
        "outputId": "c987eb40-f19a-4701-aeba-4a62c953398a"
      },
      "execution_count": null,
      "outputs": [
        {
          "output_type": "stream",
          "name": "stdout",
          "text": [
            "[24 10  6 11 13 23 12  4 28  9 24 11 10 23 18] int64\n",
            "[[1. 0. 0. 0. 0. 0. 0.]\n",
            " [0. 1. 0. 0. 0. 0. 0.]\n",
            " [0. 0. 1. 0. 0. 0. 0.]\n",
            " [0. 0. 0. 1. 0. 0. 0.]\n",
            " [0. 0. 0. 0. 1. 0. 0.]\n",
            " [0. 0. 0. 0. 0. 1. 0.]\n",
            " [0. 0. 0. 0. 0. 0. 1.]] float64\n"
          ]
        }
      ]
    },
    {
      "cell_type": "markdown",
      "source": [
        "### f. .copy() method\n"
      ],
      "metadata": {
        "id": "fvB1h3up-tzm"
      }
    },
    {
      "cell_type": "code",
      "source": [
        "x = np.ones((4,2))\n",
        "print(x)\n",
        "x1 = x.copy()\n",
        "x1 = x1 + 2\n",
        "print(x1)\n",
        "print(x)"
      ],
      "metadata": {
        "id": "r-hQeRIVL-go",
        "colab": {
          "base_uri": "https://localhost:8080/"
        },
        "outputId": "ea2cc281-8541-4c11-c1cc-dc320665f3b0"
      },
      "execution_count": null,
      "outputs": [
        {
          "output_type": "stream",
          "name": "stdout",
          "text": [
            "[[1. 1.]\n",
            " [1. 1.]\n",
            " [1. 1.]\n",
            " [1. 1.]]\n",
            "[[3. 3.]\n",
            " [3. 3.]\n",
            " [3. 3.]\n",
            " [3. 3.]]\n",
            "[[1. 1.]\n",
            " [1. 1.]\n",
            " [1. 1.]\n",
            " [1. 1.]]\n"
          ]
        }
      ]
    },
    {
      "cell_type": "code",
      "source": [
        "import numpy as np"
      ],
      "metadata": {
        "id": "xmZG7J_Rb0sz"
      },
      "execution_count": null,
      "outputs": []
    },
    {
      "cell_type": "code",
      "source": [
        ""
      ],
      "metadata": {
        "id": "MMqb8AIRb02T"
      },
      "execution_count": null,
      "outputs": []
    },
    {
      "cell_type": "code",
      "source": [
        ""
      ],
      "metadata": {
        "id": "HJ8c2f8ub0-K"
      },
      "execution_count": null,
      "outputs": []
    },
    {
      "cell_type": "markdown",
      "source": [
        "# 4.  *numpy* Indexing\n",
        "- One Dimensional Array\n",
        " 1. Single Value Indexing\n",
        " 2. Multiple Value Indexing\n",
        " 3. Slicing\n",
        " 4. Updation using Slicing\n",
        "- Two Dimensional Array\n",
        " 1. All elements of column(s)\n",
        " 2. All elements of row(s)\n",
        " 3. Combination of row(s) and column(s)"
      ],
      "metadata": {
        "id": "7OLV3xfiLJ_k"
      }
    },
    {
      "cell_type": "markdown",
      "source": [
        "## a. One Dimensional Array"
      ],
      "metadata": {
        "id": "yw3KZcc_LaaH"
      }
    },
    {
      "cell_type": "markdown",
      "source": [
        "### Case i: Single Value Indexing"
      ],
      "metadata": {
        "id": "JaXJBZoPL_hK"
      }
    },
    {
      "cell_type": "code",
      "source": [
        "lst = list(range(0,11))\n",
        "print(lst, lst[7], lst[10])\n",
        "\n",
        "npa =np.arange(0,11)\n",
        "print(npa, npa[7], npa[10])"
      ],
      "metadata": {
        "id": "Iezl9TKTMTow",
        "colab": {
          "base_uri": "https://localhost:8080/"
        },
        "outputId": "4a25e63f-78af-49f3-fe3c-5ed1d292e38b"
      },
      "execution_count": null,
      "outputs": [
        {
          "output_type": "stream",
          "name": "stdout",
          "text": [
            "[0, 1, 2, 3, 4, 5, 6, 7, 8, 9, 10] 7 10\n",
            "[ 0  1  2  3  4  5  6  7  8  9 10] 7 10\n"
          ]
        }
      ]
    },
    {
      "cell_type": "markdown",
      "source": [
        "### Case ii: Multiple Value Indexing"
      ],
      "metadata": {
        "id": "Mb9UASxvMFhO"
      }
    },
    {
      "cell_type": "code",
      "source": [
        "lst = list(range(0,11))\n",
        "\n",
        "#print(lst[0,2,6,8]) #not possible in Python\n",
        "#print(lst[[0,2,6,8]]) #not possible in Python\n",
        "\n",
        "npa = np.arange(0,11)\n",
        "\n",
        "print(npa)\n",
        "print(npa[[0,2,6,8]]) #passing a list of indices\n",
        "#print(npa[0,2,6,8]) #results in error"
      ],
      "metadata": {
        "id": "GaACcNbHMUXV",
        "colab": {
          "base_uri": "https://localhost:8080/"
        },
        "outputId": "23a6fd4f-8527-480b-ec0b-15f0c2d56675"
      },
      "execution_count": null,
      "outputs": [
        {
          "output_type": "stream",
          "name": "stdout",
          "text": [
            "[ 0  1  2  3  4  5  6  7  8  9 10]\n",
            "[0 2 6 8]\n"
          ]
        }
      ]
    },
    {
      "cell_type": "markdown",
      "source": [
        "### Case iii: Slicing"
      ],
      "metadata": {
        "id": "4EiizCYlMGc8"
      }
    },
    {
      "cell_type": "code",
      "source": [
        "lst = list(range(10))\n",
        "npa = np.arange(10)\n",
        "\n",
        "print(lst)\n",
        "print(lst[0:5])\n",
        "print(npa)\n",
        "print(npa[0:5])\n"
      ],
      "metadata": {
        "id": "DWI_HAooMVJ-",
        "colab": {
          "base_uri": "https://localhost:8080/"
        },
        "outputId": "23322665-4e0d-46af-b0a7-a0bee3f539c1"
      },
      "execution_count": null,
      "outputs": [
        {
          "output_type": "stream",
          "name": "stdout",
          "text": [
            "[0, 1, 2, 3, 4, 5, 6, 7, 8, 9]\n",
            "[0, 1, 2, 3, 4]\n",
            "[0 1 2 3 4 5 6 7 8 9]\n",
            "[0 1 2 3 4]\n"
          ]
        }
      ]
    },
    {
      "cell_type": "markdown",
      "source": [
        "### Case iv: Updation using Slicing\n",
        "\n"
      ],
      "metadata": {
        "id": "1Jl9_48HMHZF"
      }
    },
    {
      "cell_type": "code",
      "source": [
        "lst = list(range(10))\n",
        "npa = np.arange(10)\n",
        "\n",
        "print(lst)\n",
        "lst[11:13] = [77,777]\n",
        "print(lst)\n",
        "print(npa)\n",
        "#npa[11:13] = [77,777] #not possible\n",
        "\n",
        "npa[0:7] = 888\n",
        "print(npa)\n",
        "\n",
        "#lst[0:7] = 888 #not possible\n"
      ],
      "metadata": {
        "id": "i0rs8g4xMnVT",
        "colab": {
          "base_uri": "https://localhost:8080/"
        },
        "outputId": "cfd9d4fd-6262-47fa-da0e-e1d19a713421"
      },
      "execution_count": null,
      "outputs": [
        {
          "output_type": "stream",
          "name": "stdout",
          "text": [
            "[0, 1, 2, 3, 4, 5, 6, 7, 8, 9]\n",
            "[0, 1, 2, 3, 4, 5, 6, 7, 8, 9, 77, 777]\n",
            "[0 1 2 3 4 5 6 7 8 9]\n",
            "[888 888 888 888 888 888 888   7   8   9]\n"
          ]
        }
      ]
    },
    {
      "cell_type": "code",
      "source": [
        "#SUMMARY: updating values posibility (list vs. numpy array)\n",
        "#Single value updating:                             list and numpy array\n",
        "#Slicing update of existing index:                  list and numpy array\n",
        "#Slicing update of NEW index:                       list \n",
        "#Slicing update of multi indices with single value: numpy array\n",
        "\n",
        "#CONCLUSION: Creating new indices on the go and updating values for a numpy array is not possible"
      ],
      "metadata": {
        "id": "ELmvfwkCuoKm"
      },
      "execution_count": null,
      "outputs": []
    },
    {
      "cell_type": "markdown",
      "source": [
        "## b. Two Dimensional Array"
      ],
      "metadata": {
        "id": "UcIQNjMkMj2Z"
      }
    },
    {
      "cell_type": "markdown",
      "source": [
        "### Case i: All elements of column(s)\n",
        "\n",
        "\n",
        "\n",
        "\n",
        "\n"
      ],
      "metadata": {
        "id": "uEbpnRX3Juv-"
      }
    },
    {
      "cell_type": "code",
      "source": [
        "array_2d = np.arange(1,21).reshape(4,5)\n",
        "#case (i): \n",
        "\n",
        "print(array_2d, array_2d.shape)\n",
        "\n",
        "\n",
        "print('all elements of 0th index column:')\n",
        "print(array_2d[:, 0]) #all elements of column 0\n",
        "\n",
        "print('all elements of 0th index row and 1st index column:')\n",
        "print(array_2d[:, (0,1)]) #all elements of column 0 and 1\n",
        "\n",
        "\n",
        "print(array_2d[:, (0,4)]) #all elements of column 0 and 4\n",
        "print(array_2d[:, 0:4]) #all elements from column 0 to column 3"
      ],
      "metadata": {
        "id": "DHt_HwgHL-n7",
        "colab": {
          "base_uri": "https://localhost:8080/"
        },
        "outputId": "8b1e2bdc-40b9-4c04-a23d-29e53da64176"
      },
      "execution_count": null,
      "outputs": [
        {
          "output_type": "stream",
          "name": "stdout",
          "text": [
            "[[ 1  2  3  4  5]\n",
            " [ 6  7  8  9 10]\n",
            " [11 12 13 14 15]\n",
            " [16 17 18 19 20]] (4, 5)\n",
            "all elements of 0th index column:\n",
            "[ 1  6 11 16]\n",
            "all elements of 0th index row and 1st index column:\n",
            "[[ 1  2]\n",
            " [ 6  7]\n",
            " [11 12]\n",
            " [16 17]]\n",
            "[[ 1  5]\n",
            " [ 6 10]\n",
            " [11 15]\n",
            " [16 20]]\n",
            "[[ 1  2  3  4]\n",
            " [ 6  7  8  9]\n",
            " [11 12 13 14]\n",
            " [16 17 18 19]]\n"
          ]
        }
      ]
    },
    {
      "cell_type": "markdown",
      "source": [
        "### Case ii: All elements of row(s)\n"
      ],
      "metadata": {
        "id": "Ic_fIIO8IE9n"
      }
    },
    {
      "cell_type": "code",
      "source": [
        "array_2d = np.arange(1,21).reshape(4,5)\n",
        "#case (ii): \n",
        "\n",
        "print(array_2d, array_2d.shape)\n",
        "print()\n",
        "print(array_2d[0,:]) #entire first row\n",
        "print()\n",
        "print(array_2d[(0,1),:]) #0th index row and 1st index row\n",
        "print()\n",
        "print(array_2d[(0,3),:])#0th index row and 3rd index row\n",
        "print()\n",
        "print(array_2d[0:3,:]) #from 0th index row to 2nd index row"
      ],
      "metadata": {
        "colab": {
          "base_uri": "https://localhost:8080/"
        },
        "id": "a08Dm2lPHlb2",
        "outputId": "dd58c40d-690e-4d27-fc95-98ee4ac86c58"
      },
      "execution_count": null,
      "outputs": [
        {
          "output_type": "stream",
          "name": "stdout",
          "text": [
            "[[ 1  2  3  4  5]\n",
            " [ 6  7  8  9 10]\n",
            " [11 12 13 14 15]\n",
            " [16 17 18 19 20]] (4, 5)\n",
            "\n",
            "[1 2 3 4 5]\n",
            "\n",
            "[[ 1  2  3  4  5]\n",
            " [ 6  7  8  9 10]]\n",
            "\n",
            "[[ 1  2  3  4  5]\n",
            " [16 17 18 19 20]]\n",
            "\n",
            "[[ 1  2  3  4  5]\n",
            " [ 6  7  8  9 10]\n",
            " [11 12 13 14 15]]\n"
          ]
        }
      ]
    },
    {
      "cell_type": "markdown",
      "source": [
        "### Case iii: Combination of row(s) & column(s)\n"
      ],
      "metadata": {
        "id": "-r9Z7LzxJ7J6"
      }
    },
    {
      "cell_type": "code",
      "source": [
        "array_2d = np.arange(1,21).reshape(4,5)\n",
        "#case (iii): \n",
        "\n",
        "print(array_2d, array_2d.shape)\n",
        "print(array_2d[0,0])\n",
        "#print(array_2d[0][0])\n",
        "print(array_2d[(0,2),(2,4)]) \n",
        "print()\n",
        "print(array_2d[0:2, 0:2])\n",
        "print()\n",
        "print(array_2d[0:2, 2:4])"
      ],
      "metadata": {
        "colab": {
          "base_uri": "https://localhost:8080/"
        },
        "id": "e4ZQcO3cKA0E",
        "outputId": "95bf087c-329a-4acd-ae9f-03f5f0680612"
      },
      "execution_count": null,
      "outputs": [
        {
          "output_type": "stream",
          "name": "stdout",
          "text": [
            "[[ 1  2  3  4  5]\n",
            " [ 6  7  8  9 10]\n",
            " [11 12 13 14 15]\n",
            " [16 17 18 19 20]] (4, 5)\n",
            "1\n",
            "[ 3 15]\n",
            "\n",
            "[[1 2]\n",
            " [6 7]]\n",
            "\n",
            "[[3 4]\n",
            " [8 9]]\n"
          ]
        }
      ]
    },
    {
      "cell_type": "code",
      "source": [
        "array_2d"
      ],
      "metadata": {
        "colab": {
          "base_uri": "https://localhost:8080/"
        },
        "id": "LBfCg6SG4tVA",
        "outputId": "cd309bfd-4af6-40d4-c1ac-9db3480403d8"
      },
      "execution_count": null,
      "outputs": [
        {
          "output_type": "execute_result",
          "data": {
            "text/plain": [
              "array([[ 1,  2,  3,  4,  5],\n",
              "       [ 6,  7,  8,  9, 10],\n",
              "       [11, 12, 13, 14, 15],\n",
              "       [16, 17, 18, 19, 20]])"
            ]
          },
          "metadata": {},
          "execution_count": 55
        }
      ]
    },
    {
      "cell_type": "code",
      "source": [
        "array_2d[0,0]"
      ],
      "metadata": {
        "colab": {
          "base_uri": "https://localhost:8080/"
        },
        "id": "YR9Amyty4t8s",
        "outputId": "793a8873-d0f9-46b1-aab4-f67433c02fa9"
      },
      "execution_count": null,
      "outputs": [
        {
          "output_type": "execute_result",
          "data": {
            "text/plain": [
              "1"
            ]
          },
          "metadata": {},
          "execution_count": 56
        }
      ]
    },
    {
      "cell_type": "code",
      "source": [
        "array_2d[0][0]"
      ],
      "metadata": {
        "colab": {
          "base_uri": "https://localhost:8080/"
        },
        "id": "JplMxp4K9VRE",
        "outputId": "f17018e4-a0fb-4b3c-aa07-110b8d1e7f4a"
      },
      "execution_count": null,
      "outputs": [
        {
          "output_type": "execute_result",
          "data": {
            "text/plain": [
              "1"
            ]
          },
          "metadata": {},
          "execution_count": 57
        }
      ]
    },
    {
      "cell_type": "code",
      "source": [
        "array_2d[0,0] = array_2d[0][0]"
      ],
      "metadata": {
        "id": "yRPSGiFH9Yxj"
      },
      "execution_count": null,
      "outputs": []
    },
    {
      "cell_type": "code",
      "source": [
        "array_2d[3][4]"
      ],
      "metadata": {
        "colab": {
          "base_uri": "https://localhost:8080/"
        },
        "id": "IaVGgDL54uk0",
        "outputId": "e67d3359-e12e-409e-a92a-a28e402df098"
      },
      "execution_count": null,
      "outputs": [
        {
          "output_type": "execute_result",
          "data": {
            "text/plain": [
              "20"
            ]
          },
          "metadata": {},
          "execution_count": 61
        }
      ]
    },
    {
      "cell_type": "code",
      "source": [
        ""
      ],
      "metadata": {
        "id": "6MxrHPJv4u00"
      },
      "execution_count": null,
      "outputs": []
    },
    {
      "cell_type": "markdown",
      "source": [
        "# 5. Selection and Saving"
      ],
      "metadata": {
        "id": "poX-K4JJijcF"
      }
    },
    {
      "cell_type": "markdown",
      "source": [
        "### a. numpy Selection"
      ],
      "metadata": {
        "id": "c36neMrGrl2C"
      }
    },
    {
      "cell_type": "code",
      "source": [
        "lst = list(range(0,11))\n",
        "print(lst)\n",
        "#print(lst<5) #not possible\n",
        "#print(lst[lst<5]) #notpossible\n",
        "\n",
        "npa =np.arange(0,11)\n",
        "print(npa)\n",
        "print(npa<5)\n",
        "print(npa[npa<5])\n",
        "\n",
        "arr = np.random.randint(1,100,49).reshape(7,7)\n",
        "print(arr)\n",
        "print(arr<75)\n",
        "print(arr[arr<75])\n",
        "print(arr.ndim)\n",
        "print(arr[arr<75].ndim)\n"
      ],
      "metadata": {
        "colab": {
          "base_uri": "https://localhost:8080/"
        },
        "id": "rCSfhkaAaKLd",
        "outputId": "a45f93fe-dfc0-4163-c2c1-ff0bf5d59a08"
      },
      "execution_count": null,
      "outputs": [
        {
          "output_type": "stream",
          "name": "stdout",
          "text": [
            "[0, 1, 2, 3, 4, 5, 6, 7, 8, 9, 10]\n",
            "[ 0  1  2  3  4  5  6  7  8  9 10]\n",
            "[ True  True  True  True  True False False False False False False]\n",
            "[0 1 2 3 4]\n",
            "[[70 61 19 65 35 41 84]\n",
            " [56 12 54 47 60 20  6]\n",
            " [19 97 39 74  7  7 95]\n",
            " [78 88 76  1  3 72 77]\n",
            " [98 59 12 37 41 30 62]\n",
            " [ 8 77 37 33 41  3 29]\n",
            " [84 67 13 38 82 71 21]]\n",
            "[[ True  True  True  True  True  True False]\n",
            " [ True  True  True  True  True  True  True]\n",
            " [ True False  True  True  True  True False]\n",
            " [False False False  True  True  True False]\n",
            " [False  True  True  True  True  True  True]\n",
            " [ True False  True  True  True  True  True]\n",
            " [False  True  True  True False  True  True]]\n",
            "[70 61 19 65 35 41 56 12 54 47 60 20  6 19 39 74  7  7  1  3 72 59 12 37\n",
            " 41 30 62  8 37 33 41  3 29 67 13 38 71 21]\n",
            "2\n",
            "1\n"
          ]
        }
      ]
    },
    {
      "cell_type": "markdown",
      "source": [
        "### b. Saving"
      ],
      "metadata": {
        "id": "swLGG9GJrtN2"
      }
    },
    {
      "cell_type": "markdown",
      "source": [
        "#### Case(i): Saving to .npy format using np.save(  )\n",
        "\n",
        "\n",
        "\n"
      ],
      "metadata": {
        "id": "3_76kKTyurIY"
      }
    },
    {
      "cell_type": "code",
      "source": [
        "x = np.random.randn(2,3,4)\n",
        "print(x, x.ndim)\n",
        "np.save('arr_name', x)\n",
        "\n"
      ],
      "metadata": {
        "colab": {
          "base_uri": "https://localhost:8080/"
        },
        "id": "UfmOUbBjbU5d",
        "outputId": "cff87c05-f356-4c99-c0d2-b894673a1b81"
      },
      "execution_count": null,
      "outputs": [
        {
          "output_type": "stream",
          "name": "stdout",
          "text": [
            "[[[-1.48141239  0.93195964 -0.54264023 -0.23340503]\n",
            "  [ 1.10856104 -0.09544499 -0.79744163 -0.54934975]\n",
            "  [ 0.00255927 -0.96267947  1.00739643  1.14420397]]\n",
            "\n",
            " [[ 0.69743371 -0.42772385 -0.73769151  0.74861025]\n",
            "  [-1.99563767  0.61375312  0.48653919  0.21642569]\n",
            "  [ 0.53263324 -1.03803025  0.77001034 -0.43555242]]] 3\n"
          ]
        }
      ]
    },
    {
      "cell_type": "code",
      "source": [
        "np.load('arr_name.npy')"
      ],
      "metadata": {
        "colab": {
          "base_uri": "https://localhost:8080/"
        },
        "id": "EV2yaOwmb0M2",
        "outputId": "2f94186e-10b5-46c3-ad29-0da74d3f5799"
      },
      "execution_count": null,
      "outputs": [
        {
          "output_type": "execute_result",
          "data": {
            "text/plain": [
              "array([[[-1.48141239,  0.93195964, -0.54264023, -0.23340503],\n",
              "        [ 1.10856104, -0.09544499, -0.79744163, -0.54934975],\n",
              "        [ 0.00255927, -0.96267947,  1.00739643,  1.14420397]],\n",
              "\n",
              "       [[ 0.69743371, -0.42772385, -0.73769151,  0.74861025],\n",
              "        [-1.99563767,  0.61375312,  0.48653919,  0.21642569],\n",
              "        [ 0.53263324, -1.03803025,  0.77001034, -0.43555242]]])"
            ]
          },
          "metadata": {},
          "execution_count": 119
        }
      ]
    },
    {
      "cell_type": "markdown",
      "source": [
        "#### Case(ii): Saving to .csv format using np.savetxt(  )\n",
        "\n",
        "---\n",
        "\n",
        "\n"
      ],
      "metadata": {
        "id": "7arksF1evWke"
      }
    },
    {
      "cell_type": "code",
      "source": [
        "x = np.random.randint(1,100,49).reshape(7,7)\n",
        "print(x)\n",
        "np.savetxt('myArray', x)\n",
        "\n"
      ],
      "metadata": {
        "colab": {
          "base_uri": "https://localhost:8080/"
        },
        "id": "u6kwnqR4Ga6G",
        "outputId": "1f89c6a0-b0cf-4446-a5fb-e2973f797b87"
      },
      "execution_count": null,
      "outputs": [
        {
          "output_type": "stream",
          "name": "stdout",
          "text": [
            "[[56 88 74  1  3 20 47]\n",
            " [80  8 87 94 32 38 48]\n",
            " [76  2 87 85 88 71 20]\n",
            " [29 20 99 60 72  4 59]\n",
            " [59  6  3 30  2  4 68]\n",
            " [10 77 71 41 96  2 60]\n",
            " [77 51 17 38 19  4 70]]\n"
          ]
        }
      ]
    },
    {
      "cell_type": "markdown",
      "source": [
        "# 6. Summary"
      ],
      "metadata": {
        "id": "bj0Trwiv-yUS"
      }
    },
    {
      "cell_type": "markdown",
      "source": [
        "## Array Creation\n"
      ],
      "metadata": {
        "id": "Bf6F0yS2_F4f"
      }
    },
    {
      "cell_type": "markdown",
      "source": [
        "1. np.array(list/tuple)\n",
        "2. np.arange(start, stop, step)\n",
        "3. np.linspace(start, stop, #spacedValues from start to stop)\n",
        "4. np.zeros()\n",
        "5. np.ones()\n",
        "6. np.eye()\n",
        "7. np.random.rand(#rows, #columns)\n",
        "8. np.random.randn(#rows, #columns)\n",
        "9. np.random.randint(start, stop, #randomValues from start to stop)\n"
      ],
      "metadata": {
        "id": "levi1Ja5_Fzs"
      }
    },
    {
      "cell_type": "code",
      "source": [
        "np.linspace(1,10,10)"
      ],
      "metadata": {
        "colab": {
          "base_uri": "https://localhost:8080/"
        },
        "id": "YwxDi6zhPq8z",
        "outputId": "0ff65b37-5964-4bad-f3b9-97200d9aaea3"
      },
      "execution_count": null,
      "outputs": [
        {
          "output_type": "execute_result",
          "data": {
            "text/plain": [
              "array([ 1.,  2.,  3.,  4.,  5.,  6.,  7.,  8.,  9., 10.])"
            ]
          },
          "metadata": {},
          "execution_count": 19
        }
      ]
    },
    {
      "cell_type": "code",
      "source": [
        "np.ones((7,6))"
      ],
      "metadata": {
        "colab": {
          "base_uri": "https://localhost:8080/"
        },
        "id": "849ZAvZfPzzC",
        "outputId": "9adabd26-4316-4080-854a-82394c6d83d1"
      },
      "execution_count": null,
      "outputs": [
        {
          "output_type": "execute_result",
          "data": {
            "text/plain": [
              "array([[1., 1., 1., 1., 1., 1.],\n",
              "       [1., 1., 1., 1., 1., 1.],\n",
              "       [1., 1., 1., 1., 1., 1.],\n",
              "       [1., 1., 1., 1., 1., 1.],\n",
              "       [1., 1., 1., 1., 1., 1.],\n",
              "       [1., 1., 1., 1., 1., 1.],\n",
              "       [1., 1., 1., 1., 1., 1.]])"
            ]
          },
          "metadata": {},
          "execution_count": 24
        }
      ]
    },
    {
      "cell_type": "code",
      "source": [
        "np.array([1,2,3]) #column array\n",
        "np.array([[1,2,3]])"
      ],
      "metadata": {
        "colab": {
          "base_uri": "https://localhost:8080/"
        },
        "id": "ZfYSlyZsOrVa",
        "outputId": "ee751e6a-f3a4-4f6f-82f8-6a61b4e6f202"
      },
      "execution_count": null,
      "outputs": [
        {
          "output_type": "execute_result",
          "data": {
            "text/plain": [
              "array([[1, 2, 3]])"
            ]
          },
          "metadata": {},
          "execution_count": 17
        }
      ]
    },
    {
      "cell_type": "code",
      "source": [
        "np.random.randint(1,25,10)"
      ],
      "metadata": {
        "colab": {
          "base_uri": "https://localhost:8080/"
        },
        "id": "xhnmIq3KQZZb",
        "outputId": "16af9adf-afac-4bff-98c6-bcb1ad82590f"
      },
      "execution_count": null,
      "outputs": [
        {
          "output_type": "execute_result",
          "data": {
            "text/plain": [
              "array([ 2,  7, 23, 18,  8, 16, 23,  6, 24, 10])"
            ]
          },
          "metadata": {},
          "execution_count": 29
        }
      ]
    },
    {
      "cell_type": "markdown",
      "source": [
        "10. np.full()\n",
        "\n"
      ],
      "metadata": {
        "id": "4nBubeLF_Fs0"
      }
    },
    {
      "cell_type": "code",
      "source": [
        "np.full((5,4),7, dtype = 'float64')"
      ],
      "metadata": {
        "colab": {
          "base_uri": "https://localhost:8080/"
        },
        "id": "HCXNGEDRP9JD",
        "outputId": "f02001b9-920c-41a7-daff-3977ae596647"
      },
      "execution_count": null,
      "outputs": [
        {
          "output_type": "execute_result",
          "data": {
            "text/plain": [
              "array([[7., 7., 7., 7.],\n",
              "       [7., 7., 7., 7.],\n",
              "       [7., 7., 7., 7.],\n",
              "       [7., 7., 7., 7.],\n",
              "       [7., 7., 7., 7.]])"
            ]
          },
          "metadata": {},
          "execution_count": 28
        }
      ]
    },
    {
      "cell_type": "markdown",
      "source": [
        "## Properties"
      ],
      "metadata": {
        "id": "ZwhcEdcC_FnM"
      }
    },
    {
      "cell_type": "markdown",
      "source": [
        "- shape and reshape\n",
        "- transpose\n",
        "- basic math operations\n",
        "- methods with array as parameter\n",
        "- dtype\n",
        "\n",
        "\n",
        "---\n",
        "\n"
      ],
      "metadata": {
        "id": "bWUDBfeX_Fjm"
      }
    },
    {
      "cell_type": "code",
      "source": [
        "np.random.randint(1,25,10).reshape(2,5)"
      ],
      "metadata": {
        "colab": {
          "base_uri": "https://localhost:8080/"
        },
        "id": "CSQQlClAQk4T",
        "outputId": "a50338bf-f8db-4ba1-8544-0d202380e355"
      },
      "execution_count": null,
      "outputs": [
        {
          "output_type": "execute_result",
          "data": {
            "text/plain": [
              "array([[14,  4,  6, 12,  2],\n",
              "       [11, 15,  1,  5,  6]])"
            ]
          },
          "metadata": {},
          "execution_count": 32
        }
      ]
    },
    {
      "cell_type": "code",
      "source": [
        "x = np.array([[1,2,3],[4,5,6]])\n",
        "print(x.shape)\n",
        "print(x.shape[0])\n",
        "print(x.shape[1])"
      ],
      "metadata": {
        "colab": {
          "base_uri": "https://localhost:8080/"
        },
        "id": "hWvSWkrRQy2a",
        "outputId": "7ea49ea3-6a35-44ea-e808-1ebabe23dce0"
      },
      "execution_count": null,
      "outputs": [
        {
          "output_type": "stream",
          "name": "stdout",
          "text": [
            "(2, 3)\n",
            "2\n",
            "3\n"
          ]
        }
      ]
    },
    {
      "cell_type": "markdown",
      "source": [
        "- x.size/np.size()"
      ],
      "metadata": {
        "id": "C-z1iPgI_Fgv"
      }
    },
    {
      "cell_type": "code",
      "source": [
        "x = np.array([[1,2,3],[4,5,6]])\n",
        "#x.size\n",
        "print(x)\n",
        "print(np.size(x, axis = 0)) #rows\n",
        "print(np.size(x, axis = 1)) #columns\n",
        "\n"
      ],
      "metadata": {
        "colab": {
          "base_uri": "https://localhost:8080/"
        },
        "id": "P2gSUzMGRLIw",
        "outputId": "a7aa9c2a-3a8e-451d-db1e-91b6e289a424"
      },
      "execution_count": null,
      "outputs": [
        {
          "output_type": "stream",
          "name": "stdout",
          "text": [
            "[[1 2 3]\n",
            " [4 5 6]]\n",
            "2\n",
            "3\n"
          ]
        }
      ]
    },
    {
      "cell_type": "markdown",
      "source": [
        "## Methods"
      ],
      "metadata": {
        "id": "6wAIJfaD_Fdj"
      }
    },
    {
      "cell_type": "markdown",
      "source": [
        "- sqrt( ), max( ), min( ), argmax( ), argmin( ), log( ), sin( ), round( )\n",
        "- copy()\n",
        "\n",
        "---\n",
        "\n",
        "\n"
      ],
      "metadata": {
        "id": "G1dPgtWO_Fam"
      }
    },
    {
      "cell_type": "markdown",
      "source": [
        "- sum()\n",
        "- mean()\n",
        "- column_stack()\n",
        "- linalg.pinv()"
      ],
      "metadata": {
        "id": "Bg1IFKuY_FXL"
      }
    },
    {
      "cell_type": "code",
      "source": [
        "x = np.arange(1,11)\n",
        "print(x)\n",
        "print(np.sum(x))\n",
        "print(np.mean(x))\n",
        "\n",
        "y = np.random.randint(1,10, 6).reshape(3,2)\n",
        "print(y)\n",
        "print()\n",
        "print(np.sum(y, axis = 1))\n",
        "print()\n",
        "print(np.mean(y, axis = 1))\n",
        "\n"
      ],
      "metadata": {
        "colab": {
          "base_uri": "https://localhost:8080/"
        },
        "id": "2MDpC70cRvO_",
        "outputId": "b80583e2-a283-4f26-e258-b44308f80a04"
      },
      "execution_count": null,
      "outputs": [
        {
          "output_type": "stream",
          "name": "stdout",
          "text": [
            "[ 1  2  3  4  5  6  7  8  9 10]\n",
            "55\n",
            "5.5\n",
            "[[3 8]\n",
            " [3 6]\n",
            " [1 3]]\n",
            "\n",
            "[11  9  4]\n",
            "\n",
            "[5.5 4.5 2. ]\n"
          ]
        }
      ]
    },
    {
      "cell_type": "code",
      "source": [
        "x = np.array([1,2,3])\n",
        "y = np.array([4,5,6])\n",
        "\n",
        "# print(x)\n",
        "# print(y)\n",
        "\n",
        "# z= np.column_stack((x,y))\n",
        "# print(z)\n",
        "\n",
        "p = np.column_stack((np.ones(x.shape[0]),x))\n",
        "print(p)"
      ],
      "metadata": {
        "colab": {
          "base_uri": "https://localhost:8080/"
        },
        "id": "wOvHPaHfSzFp",
        "outputId": "3850c138-8c62-4c2f-a157-80ea69b42809"
      },
      "execution_count": null,
      "outputs": [
        {
          "output_type": "stream",
          "name": "stdout",
          "text": [
            "[[1. 1.]\n",
            " [1. 2.]\n",
            " [1. 3.]]\n"
          ]
        }
      ]
    },
    {
      "cell_type": "code",
      "source": [
        ""
      ],
      "metadata": {
        "id": "TsifFJL2V8Hp"
      },
      "execution_count": null,
      "outputs": []
    }
  ]
}