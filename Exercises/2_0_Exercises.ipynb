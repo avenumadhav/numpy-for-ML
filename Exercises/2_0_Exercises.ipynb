{
  "nbformat": 4,
  "nbformat_minor": 0,
  "metadata": {
    "colab": {
      "name": "2.0 Exercises.ipynb",
      "provenance": [],
      "collapsed_sections": []
    },
    "kernelspec": {
      "name": "python3",
      "display_name": "Python 3"
    },
    "language_info": {
      "name": "python"
    }
  },
  "cells": [
    {
      "cell_type": "markdown",
      "source": [
        "# Exercises - numpy Creation\n",
        "\n",
        "---\n",
        "\n"
      ],
      "metadata": {
        "id": "DLZ1vM47Hqtd"
      }
    },
    {
      "cell_type": "markdown",
      "source": [
        "### Q1. Generate a sequence of numbers in the form of a numpy array from 0 to 100 with gaps of 4 numbers, for example: 0, 4, 8 ...."
      ],
      "metadata": {
        "id": "CtQFPlBgG-JC"
      }
    },
    {
      "cell_type": "code",
      "execution_count": null,
      "metadata": {
        "id": "Ov5YPZikF7MK"
      },
      "outputs": [],
      "source": [
        ""
      ]
    },
    {
      "cell_type": "markdown",
      "source": [
        "### Q2. Output a sequence of equally gapped 7 numbers in the range 0 to 100 (both inclusive)"
      ],
      "metadata": {
        "id": "t-xXmyNSG9CF"
      }
    },
    {
      "cell_type": "code",
      "source": [
        ""
      ],
      "metadata": {
        "id": "3U56yXRRHbGH"
      },
      "execution_count": null,
      "outputs": []
    },
    {
      "cell_type": "markdown",
      "source": [
        "### Q3. Output a 5-by-5 array of random integers between 0 (inclusive) and 10 (exclusive) using size = (5,5) parameter instead on reshape property"
      ],
      "metadata": {
        "id": "A8u3t2JAHbtF"
      }
    },
    {
      "cell_type": "code",
      "source": [
        "np.random.seed(123) #setting the seed\n",
        "# Your answer below:\n"
      ],
      "metadata": {
        "id": "OLqlsK2fHcIw"
      },
      "execution_count": null,
      "outputs": []
    },
    {
      "cell_type": "markdown",
      "source": [
        "### Q4. Output a 3-by-3 array of random numbers following normal distribution\n"
      ],
      "metadata": {
        "id": "NMMLTvqWHclK"
      }
    },
    {
      "cell_type": "code",
      "source": [
        "np.random.seed(123) #setting the seed\n",
        "# Your answer below:"
      ],
      "metadata": {
        "id": "XdhF0L_3HdYZ"
      },
      "execution_count": null,
      "outputs": []
    },
    {
      "cell_type": "markdown",
      "source": [
        "### Q5. Generate a numpy array of 4 rows and 5 columns with all values 1 and also print the dimesion of the array using ndim property"
      ],
      "metadata": {
        "id": "tI38alrAHeLw"
      }
    },
    {
      "cell_type": "code",
      "source": [
        ""
      ],
      "metadata": {
        "id": "9DoNiD32He7M"
      },
      "execution_count": null,
      "outputs": []
    },
    {
      "cell_type": "markdown",
      "source": [
        "### Q6. Output a 3 dimesnional zeros numpy array of shape (3,4,5)"
      ],
      "metadata": {
        "id": "V3QRyVDeHfaK"
      }
    },
    {
      "cell_type": "code",
      "source": [
        ""
      ],
      "metadata": {
        "id": "4Fst6d99LXix"
      },
      "execution_count": null,
      "outputs": []
    },
    {
      "cell_type": "markdown",
      "source": [
        "### Q7. Output a 2 dimensional ones numpy array of shape (7,2)"
      ],
      "metadata": {
        "id": "pvkYICqwHp1v"
      }
    },
    {
      "cell_type": "code",
      "source": [
        ""
      ],
      "metadata": {
        "id": "ynd-j5AaHguV"
      },
      "execution_count": null,
      "outputs": []
    },
    {
      "cell_type": "markdown",
      "source": [
        "### Q8. Create a numpy array to output: array([ 20,  13,   6,  -1,  -8, -15])\n"
      ],
      "metadata": {
        "id": "72plpLrBLjNW"
      }
    },
    {
      "cell_type": "code",
      "source": [
        ""
      ],
      "metadata": {
        "id": "OpmIC_CSLjlw"
      },
      "execution_count": null,
      "outputs": []
    },
    {
      "cell_type": "markdown",
      "source": [
        "### Q9. What is dimension of np.array( [ 1 , 2 ] ) Vs.np.array( [ [ 1 , 2 ] ] )"
      ],
      "metadata": {
        "id": "QW9ipPooLj7k"
      }
    },
    {
      "cell_type": "code",
      "source": [
        ""
      ],
      "metadata": {
        "id": "eD60Nk14Lkg6"
      },
      "execution_count": null,
      "outputs": []
    },
    {
      "cell_type": "markdown",
      "source": [
        "### Q10. Using np.full( ), create a 4 x 5 numpy array with each value of the numpy array being 47"
      ],
      "metadata": {
        "id": "HxZEK35bLkyY"
      }
    },
    {
      "cell_type": "code",
      "source": [
        ""
      ],
      "metadata": {
        "id": "81puYH_-Oc2w"
      },
      "execution_count": null,
      "outputs": []
    }
  ]
}