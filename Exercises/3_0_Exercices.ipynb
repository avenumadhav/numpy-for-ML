{
  "nbformat": 4,
  "nbformat_minor": 0,
  "metadata": {
    "colab": {
      "name": "3.0 Exercices.ipynb",
      "provenance": [],
      "collapsed_sections": []
    },
    "kernelspec": {
      "name": "python3",
      "display_name": "Python 3"
    },
    "language_info": {
      "name": "python"
    }
  },
  "cells": [
    {
      "cell_type": "markdown",
      "source": [
        "# Exercises - numpy Methods\n",
        "\n",
        "---\n",
        "\n"
      ],
      "metadata": {
        "id": "DLZ1vM47Hqtd"
      }
    },
    {
      "cell_type": "markdown",
      "source": [
        "### Q1. Create any 2 similar dimensional numpy arrays, preferrable 4 x 5 and perform element-wise sum of the 2 numpy arrays?\n",
        "\n"
      ],
      "metadata": {
        "id": "CtQFPlBgG-JC"
      }
    },
    {
      "cell_type": "code",
      "execution_count": null,
      "metadata": {
        "id": "Ov5YPZikF7MK"
      },
      "outputs": [],
      "source": [
        ""
      ]
    },
    {
      "cell_type": "markdown",
      "source": [
        "### Q2. Create this numpy array -> [1 2 3 4 5 6 ], reshape it to 2 x 3 and scalar multiply each element of this reshaped array with 7"
      ],
      "metadata": {
        "id": "t-xXmyNSG9CF"
      }
    },
    {
      "cell_type": "code",
      "source": [
        ""
      ],
      "metadata": {
        "id": "3U56yXRRHbGH"
      },
      "execution_count": null,
      "outputs": []
    },
    {
      "cell_type": "markdown",
      "source": [
        "### Q3. Convert a 1-D array to a 3-D array\n",
        "\n"
      ],
      "metadata": {
        "id": "A8u3t2JAHbtF"
      }
    },
    {
      "cell_type": "code",
      "source": [
        "\n"
      ],
      "metadata": {
        "id": "OLqlsK2fHcIw"
      },
      "execution_count": null,
      "outputs": []
    },
    {
      "cell_type": "markdown",
      "source": [
        "### Q4. Refer the documentation and create an example using np.hstack( ) method"
      ],
      "metadata": {
        "id": "NMMLTvqWHclK"
      }
    },
    {
      "cell_type": "code",
      "source": [
        ""
      ],
      "metadata": {
        "id": "XdhF0L_3HdYZ"
      },
      "execution_count": null,
      "outputs": []
    },
    {
      "cell_type": "markdown",
      "source": [
        "### Q5. Refer the documentation and create an example using np.vstack( ) method"
      ],
      "metadata": {
        "id": "tI38alrAHeLw"
      }
    },
    {
      "cell_type": "code",
      "source": [
        ""
      ],
      "metadata": {
        "id": "9DoNiD32He7M"
      },
      "execution_count": null,
      "outputs": []
    },
    {
      "cell_type": "markdown",
      "source": [
        "### Q6. Given 2 numpy arrays as matrices, output the result of multiplying the 2 matrices (as a numpy array)\n",
        "    a = np.array([[1,2,3],\n",
        "                  [4,5,6],\n",
        "                  [7,8,9]])\n",
        "\n",
        "    b = np.array([[2,3,4],\n",
        "                  [5,6,7],\n",
        "                  [8,9,10]])\n"
      ],
      "metadata": {
        "id": "V3QRyVDeHfaK"
      }
    },
    {
      "cell_type": "code",
      "source": [
        ""
      ],
      "metadata": {
        "id": "hFjOay0InssK"
      },
      "execution_count": null,
      "outputs": []
    },
    {
      "cell_type": "markdown",
      "source": [
        "### Q7. Write a NumPy program to reverse an array (first element becomes last). \n",
        "- Original array:\n",
        "[ 1,  2,  3,  4,  5,  6,  7,  8,  9, 10, 11, 12, 13, 14, 15, 16, 17, 18, 19, 20]\n",
        "- Reverse array:\n",
        "[20, 19, 18, 17, 16, 15, 14, 13, 12, 11, 10,  9,  8,  7,  6,  5,  4, 3,  2,  1]"
      ],
      "metadata": {
        "id": "pvkYICqwHp1v"
      }
    },
    {
      "cell_type": "code",
      "source": [
        ""
      ],
      "metadata": {
        "id": "ynd-j5AaHguV"
      },
      "execution_count": null,
      "outputs": []
    },
    {
      "cell_type": "markdown",
      "source": [
        "### Q8. Create a NumPy array and convert it to a float type.\n"
      ],
      "metadata": {
        "id": "72plpLrBLjNW"
      }
    },
    {
      "cell_type": "code",
      "source": [
        ""
      ],
      "metadata": {
        "id": "OpmIC_CSLjlw"
      },
      "execution_count": null,
      "outputs": []
    },
    {
      "cell_type": "markdown",
      "source": [
        "### Q9. Using np.full( ), create a 4 x 5 numpy array with each value of the numpy array being 47 and convert it into float type"
      ],
      "metadata": {
        "id": "HxZEK35bLkyY"
      }
    },
    {
      "cell_type": "code",
      "source": [
        ""
      ],
      "metadata": {
        "id": "TLRvAMsgq6DX"
      },
      "execution_count": null,
      "outputs": []
    },
    {
      "cell_type": "markdown",
      "source": [
        "### Q10. Create any 3d numpy array and find a) minimum value b) maximum value c) index of minimum value d) index of maximum value e) create copy of the array using copy method"
      ],
      "metadata": {
        "id": "VvhBoCIdq6mS"
      }
    },
    {
      "cell_type": "code",
      "source": [
        ""
      ],
      "metadata": {
        "id": "0VkNlt1Crmmj"
      },
      "execution_count": null,
      "outputs": []
    }
  ]
}