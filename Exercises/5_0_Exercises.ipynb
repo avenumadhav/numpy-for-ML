{
  "nbformat": 4,
  "nbformat_minor": 0,
  "metadata": {
    "colab": {
      "name": "5.0 Exercises.ipynb",
      "provenance": [],
      "collapsed_sections": []
    },
    "kernelspec": {
      "name": "python3",
      "display_name": "Python 3"
    },
    "language_info": {
      "name": "python"
    }
  },
  "cells": [
    {
      "cell_type": "markdown",
      "source": [
        "# 5.0 Exercises: Selections and Saving"
      ],
      "metadata": {
        "id": "bHhg9s0BlL_c"
      }
    },
    {
      "cell_type": "markdown",
      "source": [
        "### Q1. Follow the instructions below:\n",
        "1. Create a numpy array of shape 7 x 5 using \n",
        "-  a) np.random.randint(1,100,35) \n",
        "-   b) reshape property  \n",
        "2. Replace all elements of that numPy array that are greater than 75 with 0 "
      ],
      "metadata": {
        "id": "OcT9PQgZjxVr"
      }
    },
    {
      "cell_type": "code",
      "execution_count": null,
      "metadata": {
        "id": "i-HsQXrhjrW1"
      },
      "outputs": [],
      "source": [
        "np.random.seed(123)"
      ]
    },
    {
      "cell_type": "markdown",
      "source": [
        "### Q2. Write a NumPy program to select the elements from the second array corresponding to elements in the first array that are greater than 10 and less than 20\n",
        "Input:\n",
        "> a = np.array([7, 11, 15, 19, 27])\n",
        "\n",
        "> b = np.array(['a','e','i','o','u'])\n",
        "\n",
        "\n",
        "Expected Output:\n",
        "> [ 'e' 'i' 'o' ]"
      ],
      "metadata": {
        "id": "k1c7HxBSlRoo"
      }
    },
    {
      "cell_type": "code",
      "source": [
        ""
      ],
      "metadata": {
        "id": "j-9I_nAqnWDT"
      },
      "execution_count": null,
      "outputs": []
    },
    {
      "cell_type": "markdown",
      "source": [
        "### Q3. Create a numpy array [-6 -5 -4 -3 -2 -1  0  1  2  3  4  5] and find the index of the array whose value is greater than 2\n",
        "- Hint: expected output is 9"
      ],
      "metadata": {
        "id": "r_LBVRvhnWYq"
      }
    },
    {
      "cell_type": "code",
      "source": [
        ""
      ],
      "metadata": {
        "id": "1oZNGwLPrXbP"
      },
      "execution_count": null,
      "outputs": []
    },
    {
      "cell_type": "markdown",
      "source": [
        "### Q4.  Write a program to create a numpy array  x = [-6 -5 -4 -3 -2 -1  0  1  2  3  4  5] and from it, generate another array, satisfying the condition x > 3\n",
        "- Hint: expected output is [4 5]"
      ],
      "metadata": {
        "id": "3x-0N6x7nXkr"
      }
    },
    {
      "cell_type": "code",
      "source": [
        ""
      ],
      "metadata": {
        "id": "o3Sa7tRJsPLq"
      },
      "execution_count": null,
      "outputs": []
    },
    {
      "cell_type": "markdown",
      "source": [
        "### Q5. Write a numPy program to fetch all items from a  array of 4,5 shape extracted from np.arange(20) with following conditions:\n",
        "- Greater than 6 and \n",
        "- Multiple of 3\n",
        "\n"
      ],
      "metadata": {
        "id": "iARsT8QFnZFx"
      }
    },
    {
      "cell_type": "code",
      "source": [
        ""
      ],
      "metadata": {
        "id": "E0MlzMFNnZnr"
      },
      "execution_count": null,
      "outputs": []
    },
    {
      "cell_type": "markdown",
      "source": [
        "### Q6. Save the numpy array from Q1 in .npy format"
      ],
      "metadata": {
        "id": "ZrYjFfj4naZV"
      }
    },
    {
      "cell_type": "code",
      "source": [
        ""
      ],
      "metadata": {
        "id": "kZVAx2OCna4y"
      },
      "execution_count": null,
      "outputs": []
    },
    {
      "cell_type": "markdown",
      "source": [
        "### Q7. Load the numpy array saved in Q6 "
      ],
      "metadata": {
        "id": "MTtYc0zZnphD"
      }
    },
    {
      "cell_type": "code",
      "source": [
        ""
      ],
      "metadata": {
        "id": "BvJJ75mcnnFX"
      },
      "execution_count": null,
      "outputs": []
    },
    {
      "cell_type": "markdown",
      "source": [
        "### Q8. Save the numpy array from Q1 in .txt format"
      ],
      "metadata": {
        "id": "ahNJtcK2nq8A"
      }
    },
    {
      "cell_type": "code",
      "source": [
        ""
      ],
      "metadata": {
        "id": "cXYq1rzansfJ"
      },
      "execution_count": null,
      "outputs": []
    },
    {
      "cell_type": "markdown",
      "source": [
        "### Q9. Save the numpy array from Q1 using np.savez() method (refer documentation)"
      ],
      "metadata": {
        "id": "Db2skcS5ns7E"
      }
    },
    {
      "cell_type": "code",
      "source": [
        ""
      ],
      "metadata": {
        "id": "vX62wy6lnuc6"
      },
      "execution_count": null,
      "outputs": []
    },
    {
      "cell_type": "markdown",
      "source": [
        "### Q10. Load the numpy array saved in Q8"
      ],
      "metadata": {
        "id": "QgPrDe1LnvKL"
      }
    },
    {
      "cell_type": "code",
      "source": [
        ""
      ],
      "metadata": {
        "id": "aWy-YqHVnwiU"
      },
      "execution_count": null,
      "outputs": []
    }
  ]
}