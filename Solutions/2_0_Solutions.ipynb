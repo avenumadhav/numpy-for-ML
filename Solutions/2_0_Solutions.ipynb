{
  "nbformat": 4,
  "nbformat_minor": 0,
  "metadata": {
    "colab": {
      "name": "2.0 Solutions.ipynb",
      "provenance": [],
      "collapsed_sections": []
    },
    "kernelspec": {
      "name": "python3",
      "display_name": "Python 3"
    },
    "language_info": {
      "name": "python"
    }
  },
  "cells": [
    {
      "cell_type": "markdown",
      "source": [
        "# Solutions - numpy Creation\n",
        "\n",
        "---\n",
        "\n"
      ],
      "metadata": {
        "id": "Y5mgXqtbOYI4"
      }
    },
    {
      "cell_type": "markdown",
      "source": [
        "### Q1. Generate a sequence of numbers in the form of a numpy array from 0 to 100 with gaps of 4 numbers, for example: 0, 4, 8 ...."
      ],
      "metadata": {
        "id": "TPKqLF99OYJD"
      }
    },
    {
      "cell_type": "code",
      "execution_count": null,
      "metadata": {
        "colab": {
          "base_uri": "https://localhost:8080/"
        },
        "cellView": "form",
        "id": "MYtbGPruOYJE",
        "outputId": "d4dac4f6-a449-4530-985d-e1df5b1b68bd"
      },
      "outputs": [
        {
          "output_type": "execute_result",
          "data": {
            "text/plain": [
              "array([  0,   4,   8,  12,  16,  20,  24,  28,  32,  36,  40,  44,  48,\n",
              "        52,  56,  60,  64,  68,  72,  76,  80,  84,  88,  92,  96, 100])"
            ]
          },
          "metadata": {},
          "execution_count": 26
        }
      ],
      "source": [
        "#@title\n",
        "np.arange(0,101,4)"
      ]
    },
    {
      "cell_type": "markdown",
      "source": [
        "### Q2. Output a sequence of equally gapped 7 numbers in the range 0 to 100 (both inclusive)"
      ],
      "metadata": {
        "id": "xNSjhSohOYJE"
      }
    },
    {
      "cell_type": "code",
      "source": [
        "#@title\n",
        "np.linspace(0,100,7)"
      ],
      "metadata": {
        "colab": {
          "base_uri": "https://localhost:8080/"
        },
        "cellView": "form",
        "id": "fRNJ-n6TOYJE",
        "outputId": "aadc8f69-31bc-4c76-ecf7-bfb677bb7aee"
      },
      "execution_count": null,
      "outputs": [
        {
          "output_type": "execute_result",
          "data": {
            "text/plain": [
              "array([  0.        ,  16.66666667,  33.33333333,  50.        ,\n",
              "        66.66666667,  83.33333333, 100.        ])"
            ]
          },
          "metadata": {},
          "execution_count": 27
        }
      ]
    },
    {
      "cell_type": "markdown",
      "source": [
        "### Q3. Output a 5-by-5 array of random integers between 0 (inclusive) and 10 (exclusive) using size = (5,5) parameter instead on reshape property"
      ],
      "metadata": {
        "id": "nt9vfGXbOYJE"
      }
    },
    {
      "cell_type": "code",
      "source": [
        "#@title\n",
        "np.random.seed(123) #setting the seed\n",
        "# Your answer below:\n",
        "np.random.randint(0,10,size=(5,5))"
      ],
      "metadata": {
        "colab": {
          "base_uri": "https://localhost:8080/"
        },
        "id": "rHKoYCc3OYJE",
        "outputId": "5fb17793-75da-4e2b-fa45-f86dd453d859",
        "cellView": "form"
      },
      "execution_count": null,
      "outputs": [
        {
          "output_type": "execute_result",
          "data": {
            "text/plain": [
              "array([[2, 2, 6, 1, 3],\n",
              "       [9, 6, 1, 0, 1],\n",
              "       [9, 0, 0, 9, 3],\n",
              "       [4, 0, 0, 4, 1],\n",
              "       [7, 3, 2, 4, 7]])"
            ]
          },
          "metadata": {},
          "execution_count": 43
        }
      ]
    },
    {
      "cell_type": "markdown",
      "source": [
        "### Q4. Output a 3-by-3 array of random numbers following normal distribution\n"
      ],
      "metadata": {
        "id": "_QAJcvxfOYJF"
      }
    },
    {
      "cell_type": "code",
      "source": [
        "#@title\n",
        "np.random.seed(123) #setting the seed\n",
        "# Your answer below:\n",
        "np.random.randn(3,3)"
      ],
      "metadata": {
        "colab": {
          "base_uri": "https://localhost:8080/"
        },
        "cellView": "form",
        "id": "01X2k5-qOYJF",
        "outputId": "5ecd0efa-aa00-4e3a-a0c7-0bb36253c943"
      },
      "execution_count": null,
      "outputs": [
        {
          "output_type": "execute_result",
          "data": {
            "text/plain": [
              "array([[-1.0856306 ,  0.99734545,  0.2829785 ],\n",
              "       [-1.50629471, -0.57860025,  1.65143654],\n",
              "       [-2.42667924, -0.42891263,  1.26593626]])"
            ]
          },
          "metadata": {},
          "execution_count": 33
        }
      ]
    },
    {
      "cell_type": "markdown",
      "source": [
        "### Q5. Generate a numpy array of 4 rows and 5 columns with all values 1 and also print the dimesion of the array using ndim property"
      ],
      "metadata": {
        "id": "iQoE2tHaOYJF"
      }
    },
    {
      "cell_type": "code",
      "source": [
        "#@title\n",
        "x = np.ones((4,5))\n",
        "print(x,x.ndim)"
      ],
      "metadata": {
        "colab": {
          "base_uri": "https://localhost:8080/"
        },
        "cellView": "form",
        "id": "oU1hn220OYJF",
        "outputId": "01ae4d54-e7a7-4b56-f8d0-e9a192c857e3"
      },
      "execution_count": null,
      "outputs": [
        {
          "output_type": "stream",
          "name": "stdout",
          "text": [
            "[[1. 1. 1. 1. 1.]\n",
            " [1. 1. 1. 1. 1.]\n",
            " [1. 1. 1. 1. 1.]\n",
            " [1. 1. 1. 1. 1.]] 2\n"
          ]
        }
      ]
    },
    {
      "cell_type": "markdown",
      "source": [
        "### Q6. Output a 3 dimesnional zeros numpy array of shape (3,4,5)"
      ],
      "metadata": {
        "id": "Wbt8HaSnOYJF"
      }
    },
    {
      "cell_type": "code",
      "source": [
        "#@title\n",
        "np.zeros((3,4,5))"
      ],
      "metadata": {
        "colab": {
          "base_uri": "https://localhost:8080/"
        },
        "cellView": "form",
        "id": "gvl0DD1tOYJG",
        "outputId": "c1d33a4a-4b84-43f2-9d97-e7175c7184b3"
      },
      "execution_count": null,
      "outputs": [
        {
          "output_type": "execute_result",
          "data": {
            "text/plain": [
              "array([[[0., 0., 0., 0., 0.],\n",
              "        [0., 0., 0., 0., 0.],\n",
              "        [0., 0., 0., 0., 0.],\n",
              "        [0., 0., 0., 0., 0.]],\n",
              "\n",
              "       [[0., 0., 0., 0., 0.],\n",
              "        [0., 0., 0., 0., 0.],\n",
              "        [0., 0., 0., 0., 0.],\n",
              "        [0., 0., 0., 0., 0.]],\n",
              "\n",
              "       [[0., 0., 0., 0., 0.],\n",
              "        [0., 0., 0., 0., 0.],\n",
              "        [0., 0., 0., 0., 0.],\n",
              "        [0., 0., 0., 0., 0.]]])"
            ]
          },
          "metadata": {},
          "execution_count": 37
        }
      ]
    },
    {
      "cell_type": "markdown",
      "source": [
        "### Q7. Output a 2 dimensional ones numpy array of shape (7,2)"
      ],
      "metadata": {
        "id": "JXaTDwf1OYJG"
      }
    },
    {
      "cell_type": "code",
      "source": [
        "#@title\n",
        "np.ones((7,2))"
      ],
      "metadata": {
        "colab": {
          "base_uri": "https://localhost:8080/"
        },
        "cellView": "form",
        "id": "GfkZn4buOYJG",
        "outputId": "03303148-3d1d-45d2-d96a-6611b93c8a4d"
      },
      "execution_count": null,
      "outputs": [
        {
          "output_type": "execute_result",
          "data": {
            "text/plain": [
              "array([[1., 1.],\n",
              "       [1., 1.],\n",
              "       [1., 1.],\n",
              "       [1., 1.],\n",
              "       [1., 1.],\n",
              "       [1., 1.],\n",
              "       [1., 1.]])"
            ]
          },
          "metadata": {},
          "execution_count": 38
        }
      ]
    },
    {
      "cell_type": "markdown",
      "source": [
        "### Q8. Create a numpy array to output: array([ 20,  13,   6,  -1,  -8, -15])\n"
      ],
      "metadata": {
        "id": "y4bj4IhEOYJG"
      }
    },
    {
      "cell_type": "code",
      "source": [
        "#@title\n",
        "np.arange(20,-20,-7)"
      ],
      "metadata": {
        "colab": {
          "base_uri": "https://localhost:8080/"
        },
        "cellView": "form",
        "id": "_ecSONOuOYJG",
        "outputId": "7ff807d3-b2a2-4a17-a2f2-644663a00e86"
      },
      "execution_count": null,
      "outputs": [
        {
          "output_type": "execute_result",
          "data": {
            "text/plain": [
              "array([ 20,  13,   6,  -1,  -8, -15])"
            ]
          },
          "metadata": {},
          "execution_count": 39
        }
      ]
    },
    {
      "cell_type": "markdown",
      "source": [
        "### Q9. What is dimension of np.array( [ 1 , 2 ] ) Vs.np.array( [ [ 1 , 2 ] ] )"
      ],
      "metadata": {
        "id": "pYw8C64ZOYJG"
      }
    },
    {
      "cell_type": "code",
      "source": [
        "#@title\n",
        "print(np.array([1,2]).ndim)\n",
        "print(np.array([[1,2]]).ndim)"
      ],
      "metadata": {
        "colab": {
          "base_uri": "https://localhost:8080/"
        },
        "cellView": "form",
        "id": "tjrB-EfLOYJH",
        "outputId": "10cf5109-0c8d-4bcb-a30e-06704de7e6d7"
      },
      "execution_count": null,
      "outputs": [
        {
          "output_type": "stream",
          "name": "stdout",
          "text": [
            "1\n",
            "2\n"
          ]
        }
      ]
    },
    {
      "cell_type": "markdown",
      "source": [
        "### Q10. Using np.full( ), create a 4 x 5 numpy array with each value of the numpy array being 47"
      ],
      "metadata": {
        "id": "6XV3vbPkOYJH"
      }
    },
    {
      "cell_type": "code",
      "source": [
        "#@title\n",
        "np.full((4,5),47)"
      ],
      "metadata": {
        "colab": {
          "base_uri": "https://localhost:8080/"
        },
        "cellView": "form",
        "id": "t8JfYIKiLlWz",
        "outputId": "9ee6bcb3-eced-48f1-d506-81a5719c89d8"
      },
      "execution_count": null,
      "outputs": [
        {
          "output_type": "execute_result",
          "data": {
            "text/plain": [
              "array([[47, 47, 47, 47, 47],\n",
              "       [47, 47, 47, 47, 47],\n",
              "       [47, 47, 47, 47, 47],\n",
              "       [47, 47, 47, 47, 47]])"
            ]
          },
          "metadata": {},
          "execution_count": 42
        }
      ]
    }
  ]
}