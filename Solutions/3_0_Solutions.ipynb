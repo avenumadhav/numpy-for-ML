{
  "nbformat": 4,
  "nbformat_minor": 0,
  "metadata": {
    "colab": {
      "name": "3.0 Solutions.ipynb",
      "provenance": [],
      "collapsed_sections": []
    },
    "kernelspec": {
      "name": "python3",
      "display_name": "Python 3"
    },
    "language_info": {
      "name": "python"
    }
  },
  "cells": [
    {
      "cell_type": "markdown",
      "source": [
        "# Solutions - numpy Methods\n",
        "\n",
        "---\n",
        "\n"
      ],
      "metadata": {
        "id": "DLZ1vM47Hqtd"
      }
    },
    {
      "cell_type": "markdown",
      "source": [
        "### Q1. Create any 2 similar dimensional numpy arrays, preferrable 4 x 5 and perform element-wise sum of the 2 numpy arrays?\n",
        "\n"
      ],
      "metadata": {
        "id": "CtQFPlBgG-JC"
      }
    },
    {
      "cell_type": "code",
      "execution_count": 3,
      "metadata": {
        "id": "Ov5YPZikF7MK",
        "colab": {
          "base_uri": "https://localhost:8080/"
        },
        "outputId": "54ffae45-e8e0-45aa-d462-1aae9bfcda62"
      },
      "outputs": [
        {
          "output_type": "stream",
          "name": "stdout",
          "text": [
            "[[67 93 99 18 84]\n",
            " [58 87 98 97 48]\n",
            " [74 33 47 97 26]\n",
            " [84 79 37 97 81]]\n",
            "[[69 50 56 68  3]\n",
            " [85 40 67 85 48]\n",
            " [62 49  8 93 53]\n",
            " [98 86 95 28 35]]\n",
            "[[136 143 155  86  87]\n",
            " [143 127 165 182  96]\n",
            " [136  82  55 190  79]\n",
            " [182 165 132 125 116]]\n"
          ]
        }
      ],
      "source": [
        "import numpy as np\n",
        "np.random.seed(123)\n",
        "x = np.random.randint(1,100,20).reshape(4,5)\n",
        "y = np.random.randint(1,100,20).reshape(4,5)\n",
        "print(x)\n",
        "print(y)\n",
        "print(x + y)\n",
        "\n"
      ]
    },
    {
      "cell_type": "markdown",
      "source": [
        "### Q2. Create this numpy array -> [1 2 3 4 5 6 ], reshape it to 2 x 3 and scalar multiply each element of this reshaped array with 7"
      ],
      "metadata": {
        "id": "t-xXmyNSG9CF"
      }
    },
    {
      "cell_type": "code",
      "source": [
        "x = np.array([1,2,3,4,5,6]).reshape(2,3)\n",
        "print(x)\n",
        "print(x * 7)"
      ],
      "metadata": {
        "id": "3U56yXRRHbGH",
        "colab": {
          "base_uri": "https://localhost:8080/"
        },
        "outputId": "3457d88a-d221-4872-a60c-639465de9fa3"
      },
      "execution_count": 5,
      "outputs": [
        {
          "output_type": "stream",
          "name": "stdout",
          "text": [
            "[[1 2 3]\n",
            " [4 5 6]]\n",
            "[[ 7 14 21]\n",
            " [28 35 42]]\n"
          ]
        }
      ]
    },
    {
      "cell_type": "markdown",
      "source": [
        "### Q3. Convert a 1-D array to a 3-D array\n",
        "\n"
      ],
      "metadata": {
        "id": "A8u3t2JAHbtF"
      }
    },
    {
      "cell_type": "code",
      "source": [
        "x = np.arange(1,28)\n",
        "print(x)\n",
        "print(x.reshape(3,3,3))\n"
      ],
      "metadata": {
        "id": "OLqlsK2fHcIw",
        "colab": {
          "base_uri": "https://localhost:8080/"
        },
        "outputId": "35eaa9ba-696e-4337-a861-7e7bbb33d863"
      },
      "execution_count": 20,
      "outputs": [
        {
          "output_type": "stream",
          "name": "stdout",
          "text": [
            "[ 1  2  3  4  5  6  7  8  9 10 11 12 13 14 15 16 17 18 19 20 21 22 23 24\n",
            " 25 26 27]\n",
            "[[[ 1  2  3]\n",
            "  [ 4  5  6]\n",
            "  [ 7  8  9]]\n",
            "\n",
            " [[10 11 12]\n",
            "  [13 14 15]\n",
            "  [16 17 18]]\n",
            "\n",
            " [[19 20 21]\n",
            "  [22 23 24]\n",
            "  [25 26 27]]]\n"
          ]
        }
      ]
    },
    {
      "cell_type": "markdown",
      "source": [
        "### Q4. Refer the documentation and create an example using np.hstack( ) method"
      ],
      "metadata": {
        "id": "NMMLTvqWHclK"
      }
    },
    {
      "cell_type": "code",
      "source": [
        "x = np.array([[1,2,3],[4,5,6]])\n",
        "y = np.array([[11,12,13],[14,15,16]])\n",
        "print(x)\n",
        "print()\n",
        "print(y)\n",
        "print()\n",
        "z = np.hstack((x,y))\n",
        "print(z)"
      ],
      "metadata": {
        "id": "XdhF0L_3HdYZ",
        "colab": {
          "base_uri": "https://localhost:8080/"
        },
        "outputId": "f0908072-fe56-4131-b174-82f30a3be244"
      },
      "execution_count": 25,
      "outputs": [
        {
          "output_type": "stream",
          "name": "stdout",
          "text": [
            "[[1 2 3]\n",
            " [4 5 6]]\n",
            "\n",
            "[[11 12 13]\n",
            " [14 15 16]]\n",
            "\n",
            "[[ 1  2  3 11 12 13]\n",
            " [ 4  5  6 14 15 16]]\n"
          ]
        }
      ]
    },
    {
      "cell_type": "markdown",
      "source": [
        "### Q5. Refer the documentation and create an example using np.vstack( ) method"
      ],
      "metadata": {
        "id": "tI38alrAHeLw"
      }
    },
    {
      "cell_type": "code",
      "source": [
        "x = np.array([[1,2,3],[4,5,6]])\n",
        "y = np.array([[11,12,13],[14,15,16]])\n",
        "print(x)\n",
        "print()\n",
        "print(y)\n",
        "print()\n",
        "z = np.vstack((x,y))\n",
        "print(z)"
      ],
      "metadata": {
        "id": "9DoNiD32He7M",
        "colab": {
          "base_uri": "https://localhost:8080/"
        },
        "outputId": "8c5aa1e3-b50b-4176-c92a-b76bdfb09b63"
      },
      "execution_count": 26,
      "outputs": [
        {
          "output_type": "stream",
          "name": "stdout",
          "text": [
            "[[1 2 3]\n",
            " [4 5 6]]\n",
            "\n",
            "[[11 12 13]\n",
            " [14 15 16]]\n",
            "\n",
            "[[ 1  2  3]\n",
            " [ 4  5  6]\n",
            " [11 12 13]\n",
            " [14 15 16]]\n"
          ]
        }
      ]
    },
    {
      "cell_type": "markdown",
      "source": [
        "### Q6. Given 2 numpy arrays as matrices, output the result of multiplying the 2 matrices (as a numpy array)\n",
        "    a = np.array([[1,2,3],\n",
        "                  [4,5,6],\n",
        "                  [7,8,9]])\n",
        "\n",
        "    b = np.array([[2,3,4],\n",
        "                  [5,6,7],\n",
        "                  [8,9,10]])\n"
      ],
      "metadata": {
        "id": "V3QRyVDeHfaK"
      }
    },
    {
      "cell_type": "code",
      "source": [
        "a = np.array([[1,2,3], [4,5,6], [7,8,9]])\n",
        "\n",
        "b = np.array([[2,3,4], [5,6,7], [8,9,10]])\n",
        "\n",
        "\n",
        "print(a @ b)"
      ],
      "metadata": {
        "id": "hFjOay0InssK",
        "colab": {
          "base_uri": "https://localhost:8080/"
        },
        "outputId": "70499b22-f739-48d6-d3f4-f2b221659e52"
      },
      "execution_count": 29,
      "outputs": [
        {
          "output_type": "stream",
          "name": "stdout",
          "text": [
            "[[ 36  42  48]\n",
            " [ 81  96 111]\n",
            " [126 150 174]]\n"
          ]
        }
      ]
    },
    {
      "cell_type": "markdown",
      "source": [
        "### Q7. Write a NumPy program to reverse an array (first element becomes last). \n",
        "- Original array:\n",
        "[ 1,  2,  3,  4,  5,  6,  7,  8,  9, 10, 11, 12, 13, 14, 15, 16, 17, 18, 19, 20]\n",
        "- Reverse array:\n",
        "[20, 19, 18, 17, 16, 15, 14, 13, 12, 11, 10,  9,  8,  7,  6,  5,  4, 3,  2,  1]"
      ],
      "metadata": {
        "id": "pvkYICqwHp1v"
      }
    },
    {
      "cell_type": "code",
      "source": [
        "x = np.arange(1,21)\n",
        "print(x)\n",
        "y = x[::-1]\n",
        "print(y)"
      ],
      "metadata": {
        "id": "ynd-j5AaHguV",
        "colab": {
          "base_uri": "https://localhost:8080/"
        },
        "outputId": "cdeb11f8-5ad2-4fdc-ceb4-d606aaff0ce3"
      },
      "execution_count": 31,
      "outputs": [
        {
          "output_type": "stream",
          "name": "stdout",
          "text": [
            "[ 1  2  3  4  5  6  7  8  9 10 11 12 13 14 15 16 17 18 19 20]\n",
            "[20 19 18 17 16 15 14 13 12 11 10  9  8  7  6  5  4  3  2  1]\n"
          ]
        }
      ]
    },
    {
      "cell_type": "markdown",
      "source": [
        "### Q8. Create a NumPy array and convert it to a float type.\n"
      ],
      "metadata": {
        "id": "72plpLrBLjNW"
      }
    },
    {
      "cell_type": "code",
      "source": [
        "np.full((2,3),6, dtype = 'float64')"
      ],
      "metadata": {
        "id": "OpmIC_CSLjlw",
        "colab": {
          "base_uri": "https://localhost:8080/"
        },
        "outputId": "553a74fc-26ca-4a83-9d8d-0d7fe3f94c84"
      },
      "execution_count": 33,
      "outputs": [
        {
          "output_type": "execute_result",
          "data": {
            "text/plain": [
              "array([[6., 6., 6.],\n",
              "       [6., 6., 6.]])"
            ]
          },
          "metadata": {},
          "execution_count": 33
        }
      ]
    },
    {
      "cell_type": "markdown",
      "source": [
        "### Q9. Using np.full( ), create a 4 x 5 numpy array with each value of the numpy array being 47 and convert it into float type"
      ],
      "metadata": {
        "id": "HxZEK35bLkyY"
      }
    },
    {
      "cell_type": "code",
      "source": [
        "np.full((4,5),47, dtype = 'float64')"
      ],
      "metadata": {
        "id": "TLRvAMsgq6DX",
        "colab": {
          "base_uri": "https://localhost:8080/"
        },
        "outputId": "b6c9359e-e0dd-49a2-9159-b685312a5bf1"
      },
      "execution_count": 34,
      "outputs": [
        {
          "output_type": "execute_result",
          "data": {
            "text/plain": [
              "array([[47., 47., 47., 47., 47.],\n",
              "       [47., 47., 47., 47., 47.],\n",
              "       [47., 47., 47., 47., 47.],\n",
              "       [47., 47., 47., 47., 47.]])"
            ]
          },
          "metadata": {},
          "execution_count": 34
        }
      ]
    },
    {
      "cell_type": "markdown",
      "source": [
        "### Q10. Create any 3d numpy array and find a) minimum value b) maximum value c) index of minimum value d) index of maximum value e) create copy of the array using copy method"
      ],
      "metadata": {
        "id": "VvhBoCIdq6mS"
      }
    },
    {
      "cell_type": "code",
      "source": [
        "x = np.random.randint(1,100,18).reshape(3,2,3)\n",
        "print(x, x.ndim)\n",
        "print('-----------------')\n",
        "x1 = x.copy()\n",
        "print(x1, x1.ndim)"
      ],
      "metadata": {
        "id": "0VkNlt1Crmmj",
        "colab": {
          "base_uri": "https://localhost:8080/"
        },
        "outputId": "6c9924b0-17f4-4e46-ea0d-be76022cca6d"
      },
      "execution_count": 46,
      "outputs": [
        {
          "output_type": "stream",
          "name": "stdout",
          "text": [
            "[[[10 88 90]\n",
            "  [72  5 13]]\n",
            "\n",
            " [[86 34 25]\n",
            "  [23 85  3]]\n",
            "\n",
            " [[ 8 46 62]\n",
            "  [39 51 22]]] 3\n",
            "-----------------\n",
            "[[[10 88 90]\n",
            "  [72  5 13]]\n",
            "\n",
            " [[86 34 25]\n",
            "  [23 85  3]]\n",
            "\n",
            " [[ 8 46 62]\n",
            "  [39 51 22]]] 3\n"
          ]
        }
      ]
    },
    {
      "cell_type": "code",
      "execution_count": null,
      "metadata": {
        "id": "L_G4g77quNR4"
      },
      "outputs": [],
      "source": [
        ""
      ]
    }
  ]
}