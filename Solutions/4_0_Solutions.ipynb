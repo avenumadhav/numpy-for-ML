{
  "nbformat": 4,
  "nbformat_minor": 0,
  "metadata": {
    "colab": {
      "name": "4.0 Solutions.ipynb",
      "provenance": [],
      "collapsed_sections": []
    },
    "kernelspec": {
      "name": "python3",
      "display_name": "Python 3"
    },
    "language_info": {
      "name": "python"
    }
  },
  "cells": [
    {
      "cell_type": "markdown",
      "source": [
        "# Solutions: numpy Indexing"
      ],
      "metadata": {
        "id": "sWeGKAjF1x7-"
      }
    },
    {
      "cell_type": "markdown",
      "source": [
        "### Q1. Find the values of x [ 0 ],  x [ 0 , 3 ], x [ 0 ][ 3 ], x [ 3 , 2 ] from the given numpy 'x' below and note your observations"
      ],
      "metadata": {
        "id": "ZGbNiflo2mj9"
      }
    },
    {
      "cell_type": "code",
      "source": [
        "import numpy as np\n",
        "np.random.seed(123)\n",
        "x = np.random.randint(1,10,10).reshape(2,5)\n"
      ],
      "metadata": {
        "id": "tgF3PPo93hLu"
      },
      "execution_count": 1,
      "outputs": []
    },
    {
      "cell_type": "code",
      "source": [
        "print(x) \n",
        "print()\n",
        "print(x[0], x[0].shape) #gives column matrix with shape 5 x 1\n",
        "print()\n",
        "print(x[0,3]) #gives 1 element present at 0th index row and 3rd index column\n",
        "print()\n",
        "print(x[0][3]) #x[0,3] == x[0][3]\n"
      ],
      "metadata": {
        "colab": {
          "base_uri": "https://localhost:8080/"
        },
        "id": "UPtFNmTZRGww",
        "outputId": "fe527d08-597c-4854-b271-c4a92b1d3883"
      },
      "execution_count": 10,
      "outputs": [
        {
          "output_type": "stream",
          "name": "stdout",
          "text": [
            "[[3 3 7 2 4]\n",
            " [7 2 1 2 1]]\n",
            "\n",
            "[3 3 7 2 4] (5,)\n",
            "\n",
            "2\n",
            "\n",
            "2\n"
          ]
        }
      ]
    },
    {
      "cell_type": "code",
      "source": [
        "print(x[3,2]) #results in 'out of bounds' error as there is no row with 3rd index"
      ],
      "metadata": {
        "colab": {
          "base_uri": "https://localhost:8080/",
          "height": 166
        },
        "id": "eF8YBEyZSELh",
        "outputId": "15ef2639-6264-46b4-dad6-80cc9e5a51bf"
      },
      "execution_count": 11,
      "outputs": [
        {
          "output_type": "error",
          "ename": "IndexError",
          "evalue": "ignored",
          "traceback": [
            "\u001b[0;31m---------------------------------------------------------------------------\u001b[0m",
            "\u001b[0;31mIndexError\u001b[0m                                Traceback (most recent call last)",
            "\u001b[0;32m<ipython-input-11-8294c22a083d>\u001b[0m in \u001b[0;36m<module>\u001b[0;34m()\u001b[0m\n\u001b[0;32m----> 1\u001b[0;31m \u001b[0mprint\u001b[0m\u001b[0;34m(\u001b[0m\u001b[0mx\u001b[0m\u001b[0;34m[\u001b[0m\u001b[0;36m3\u001b[0m\u001b[0;34m,\u001b[0m\u001b[0;36m2\u001b[0m\u001b[0;34m]\u001b[0m\u001b[0;34m)\u001b[0m \u001b[0;31m#results in error as there is no row with 3rd index\u001b[0m\u001b[0;34m\u001b[0m\u001b[0;34m\u001b[0m\u001b[0m\n\u001b[0m",
            "\u001b[0;31mIndexError\u001b[0m: index 3 is out of bounds for axis 0 with size 2"
          ]
        }
      ]
    },
    {
      "cell_type": "markdown",
      "source": [
        "### Q2. Find the values of y[[0,2,3,4]] from the code below and interpret the results in your own words"
      ],
      "metadata": {
        "id": "XdpemO3u2nuT"
      }
    },
    {
      "cell_type": "code",
      "source": [
        "np.random.seed(123)\n",
        "y = np.random.randint(1,10,10)\n",
        "print(y)\n",
        "print()\n",
        "print(y[[0,2,3,4]]) #provides numpy array with values at respective indices provided as list\n",
        "\n"
      ],
      "metadata": {
        "id": "4zvjIoeI2oJh",
        "colab": {
          "base_uri": "https://localhost:8080/"
        },
        "outputId": "6a950d7c-1ab0-43da-b1f0-57ee4d0fa2bb"
      },
      "execution_count": 13,
      "outputs": [
        {
          "output_type": "stream",
          "name": "stdout",
          "text": [
            "[3 3 7 2 4 7 2 1 2 1]\n",
            "\n",
            "[3 7 2 4]\n"
          ]
        }
      ]
    },
    {
      "cell_type": "markdown",
      "source": [
        "### Q3. Follow the numpy array 'z' shown below and print the following:\n",
        "1. z\n",
        "2. z[0]\n",
        "3. z[1]\n",
        "4. z[2]\n",
        "5. z[1,2]\n",
        "6. z[0,2]\n",
        "7. z[0,0]\n",
        "8. z[1:3]\n",
        "9. z[::-1]\n",
        "10. Assign z[1::2,::2] = 1 and print z\n",
        "\n",
        "- Interpret the results using comments in your own words"
      ],
      "metadata": {
        "id": "At2_gMFgIFET"
      }
    },
    {
      "cell_type": "code",
      "source": [
        "z = np.arange(1,28).reshape(3,3,3)\n",
        "print('1. z')\n",
        "print(z)\n",
        "print()\n",
        "\n",
        "print('2. z[0]')\n",
        "print(z[0])\n",
        "print()\n",
        "\n",
        "print('3. z[1]')\n",
        "print(z[1])\n",
        "print()\n",
        "\n",
        "print('4. z[2]')\n",
        "print(z[2])\n",
        "print()\n",
        "\n",
        "print('5. z[1,2]')\n",
        "print(z[1,2])\n",
        "\n"
      ],
      "metadata": {
        "id": "wGh37p0eIFcY",
        "colab": {
          "base_uri": "https://localhost:8080/"
        },
        "outputId": "41b2b7a9-a4fd-4c47-cc62-6b7e54641609"
      },
      "execution_count": 22,
      "outputs": [
        {
          "output_type": "stream",
          "name": "stdout",
          "text": [
            "1. z\n",
            "[[[ 1  2  3]\n",
            "  [ 4  5  6]\n",
            "  [ 7  8  9]]\n",
            "\n",
            " [[10 11 12]\n",
            "  [13 14 15]\n",
            "  [16 17 18]]\n",
            "\n",
            " [[19 20 21]\n",
            "  [22 23 24]\n",
            "  [25 26 27]]]\n",
            "\n",
            "2. z[0]\n",
            "[[1 2 3]\n",
            " [4 5 6]\n",
            " [7 8 9]]\n",
            "\n",
            "3. z[1]\n",
            "[[10 11 12]\n",
            " [13 14 15]\n",
            " [16 17 18]]\n",
            "\n",
            "4. z[2]\n",
            "[[19 20 21]\n",
            " [22 23 24]\n",
            " [25 26 27]]\n",
            "\n",
            "5. z[1,2]\n",
            "[16 17 18]\n"
          ]
        }
      ]
    },
    {
      "cell_type": "code",
      "source": [
        "print('6. z[0,2]')\n",
        "print(z[0,2])\n",
        "print()\n",
        "\n",
        "print('7. z[0,0]')\n",
        "print(z[0,0])\n",
        "print()\n",
        "\n",
        "print('8. z[1,3]')\n",
        "print('out of bounds error')\n",
        "# print(z[1,3]) #results in 'out of bounds' error\n",
        "print()\n",
        "\n",
        "print('9. z[::-1]')\n",
        "print(z[::-1]) #results in reverse order\n"
      ],
      "metadata": {
        "colab": {
          "base_uri": "https://localhost:8080/"
        },
        "id": "xvoaFttqS_A0",
        "outputId": "1452e01f-bee9-4006-8f12-fe546f4e8d32"
      },
      "execution_count": 25,
      "outputs": [
        {
          "output_type": "stream",
          "name": "stdout",
          "text": [
            "6. z[0,2]\n",
            "[7 8 9]\n",
            "\n",
            "7. z[0,0]\n",
            "[1 2 3]\n",
            "\n",
            "8. z[1,3]\n",
            "out of bounds error\n",
            "\n",
            "9. z[::-1]\n",
            "[[[19 20 21]\n",
            "  [22 23 24]\n",
            "  [25 26 27]]\n",
            "\n",
            " [[10 11 12]\n",
            "  [13 14 15]\n",
            "  [16 17 18]]\n",
            "\n",
            " [[ 1  2  3]\n",
            "  [ 4  5  6]\n",
            "  [ 7  8  9]]]\n"
          ]
        }
      ]
    },
    {
      "cell_type": "code",
      "source": [
        ""
      ],
      "metadata": {
        "id": "RU8dK9SsTCm-"
      },
      "execution_count": null,
      "outputs": []
    },
    {
      "cell_type": "markdown",
      "source": [
        "### Q4. Refer documentation and learn about np.pad() method and do the following:\n",
        "1. Create a 3 x 3 ones numpy array\n",
        "2. Add a border (filled with 0's) around this 3 x 3 ones array\n",
        "- Expected Result:\n",
        "\n",
        "\n",
        "![assn2.png](data:image/png;base64,iVBORw0KGgoAAAANSUhEUgAAAaQAAAFhCAIAAACwC0llAAAAFnRFWHRJRAAxNjUwNTM5NTk5NjUzLTE4MTIxTBcCegAAAAx0RVh0VkVSU0lPTl9JRAAwTj4+VAAAN/JJREFUeF7tnW1sFFfW57Nf5kO+JNJKs1Kk2dFIEVmtsrOjDc/mIRBIKDFKwJLHCoPXg0DEPIJAkCyCxxKSA1EgGIfxmHg8a4eJ4oCxYuE4ziRkHWOwjZEDTBK/dAiQhNhubAN+AYJ56TDJ5u5Jn8e1RdW9F1eX6+XWPUc/IXO6qqt+fbr+Xd3ubt/DqKjurPPnzhq/uMekMPdJ+xJUVArWPfYGFRVjy2Y/YIZd7e6X7RdTUSlYFHZUnHplQ54Zdn0njtovpqJSsCjsqDj1wf5qTLols+795+3v7BdTUSlYFHZUnDJftqMX7KhiUxR2VPzCl+3oBTuq2BSFHRW/8GU7esGOKjZFYUfFrw/2V9MLdlRxKgo7Kn6dP3eWXrCjilNR2FEJq/ntanuLikrZorCjEtb3339vb1FRKVsUdlRUVFoUhR0VFZUWRWFHRUWlRVHYUVFRaVEUdlRUVFoUhR0VFZUWRWFHRUWlRXkKux/vrP+rftmMsOwLKVh2pXTZF1Kw7Erpsi+kYNmV0mVfSMGyGdkDxefKMOzM3UWH79P1z3Tdvn37O9UK9hl3HgpdzDL75BWdIi+1yvQCkR9++MEWfPZw8a0yCTsz5mC/cQzgc+vWrZs3b964cWMyXdfUKdjb69evw57fTFfKUqYUeUWnyEtdL3CBrMDUs0aePWL8KddhZyYdxtwzv/m59Y+zqMulS5fGxsYmJiauXr367bffklfEIS+1AK/x8fErV65A9kF2w7ke5l10w86adJDQ/+vRX+zevJr9cF1dYP9xGKdPn/7qq6/6+/uHhobIK7KQl1qYXmfOnDl37tz58+ch9SDH4VwPAiTgvHMRdrak+7dF/y0Ok/jP/wHn0dHR0dXV9emnn658/EHyiibkpRZWr6NHj548eTKRSECOX7hwAU7x4IltwOd30w07W9JtyP7X2EwCfoZh1NXVNTY2rnriIfKKJuSlFjav+vr6999/v729vbu7G07xIO/gSXoqlfrnP/8Z2C8rphV2tqR78dklcZoESw+jtLQ0b+F/J69oQl5q4fTatWtXdXU1RN6RI0d6enrg/G58fBxO7oJ8Mnv3sLMl3c6CP8RhEr+4x2oB/136+MPkFU3ISy24XkVFRdu3b6+qqnr33XfhefqZM2dGRkauXbt269atwE7u7hJ2tqSr2lYYv0mw9DDIK5qQl1qIvNasWQN5B+ettbW1ra2tfX19yWTy8uXL+Modvvku/LDDpIMdevt/7wSH61eGnYaqwJ3EO3vIK6KQl1pwvVg67PLy8tatW7dly5bXX3/94MGDn3zyyTfffAPPZCcnJ1OplPWZrH95Jws7TDoIXUi65sZ929cvHfq6x2moCtxJtL/3FnlFE/JSC64XAv2cnJz8/Hw4uausrGxqaoJnsl9++eWlS5e+/fZbfCYbwMmdMOzMpIP9+KSjZdOy+X1d/8epoQrcSYAReUUT8lILrpcJXJSdnb1ixYrCwsLy8vIDBw50dnaePn16ZGTkypUrN2/eDOY9KPyww01i0p073bfy8QfhkcfpoArcScCjKHlFE/JSC66XFbg0Kytr+fLlBQUFZWVl9fX17e3tiURiaGhoYmIisN/JcsLOmnRXL48vmXXvO3t2OgVUgTuJW5Oj5BVNyEstuF42YIHFixfn5eVB2JWWlu7fv//w4cMQdslkEl+2ww/MBh12uDHYKmw7lUrBXr6+rcC596ogmgR5RRPyUguRlw0z7DZs2GD+Qra3t3dwcHBsbAx/R4Ev2wUXdvaks7wtUEVEkyCvaEJeaiHycmINu5KSkn379rW0tPT09AwMDIyOjl67di3osLMl3W9/9bPpaEQW0STIK5qQl1qIvLjYwm7v3r22sLP9QtYSUDNZ/x52tqRbMuveaWpEE9EkyCuakJdaiLxEYNjl5uZC2O3YsQPC7qOPPuru7u7v7+e+++TOjJqx+inszKTDj0n87uH7p68RQUSTIK9oQl5qIfKSAMs//fTTZti99dZbEHafffZZOGFnfkxi2ewHXGlEDdEkyCuakJdaiLzkiMLum2++CSfsYGOrnnjIcHzFqIrYbmvyijjkpRY2r7tiTIXd888/H37YwWbgCezk5GQGJpFCNAxuUyHISy1085ITrbCD57CpVOrKlSsZmEQK0TC4TYUgL7XQzUtOhMIOn8PevHlzbGwsA5NIIRoGt6kQ5KUWunnJiVbY3b59+/r16xcvXszAJFKIhsFtKgR5qYVuXnKiFXb4gt3w8HAGJpFCNAxuUyHISy1085JDYecLomFwmwpBXmqhm5ecyIXdtWvXhoaGMjCJFKJhcJsKQV5qoZuXnCiG3fnz5zMwiRSiYXCbCkFeaqGbl5zIhR1sMplMZmASKUTD4DYVgrzUQjcvORR2viAaBrepEOSlFrp5yYlc2MHTWAq7yEJeaqGbl5wohh29ZhdZyEstdPOSQ2HnC6JhcJsKQV5qoZuXHF3CrrlxX1H+M3gbAa9sWtvZ0uRcbKYQDYPbzJiApRh5eSB4Kaaflxwj9mE3cbF/bfZ8cxhWYDC3Jkedq3hHNAxuMwNCkWLklRFhSTH9vOQYsQ8782GnoaYSOzCGmood2KzY9kfnKt4RDYPbzIBQpBh5ZURYUkw/LzlGvMMOzqjxdoGTbdtF5lTOn/vcuaJHRMPgNt0SlhQjL/eEKMX085JjxDvs4OEFrmrZYw86T6rhJBxvMvNxaQYRDYPbdEtYUoy83BOiFNPPS44R77CDYRjiM2o8D4d/nRd5RDQMbtMtYUkx8nJPiFJMPy85RozDznyEcZ5pI/joNCPbsiG6Wm7TFSFKMfJySbhSTD8vOUaMw+5s33H5SMwXF5yn4h4RDYPbdEWIUoy8XBKuFNPPS46hQ9iJ3vhjjgQeqZyXekE0DG7TFSFKMfJySbhSTD8vOUaMw+6zrtawRiIaBrfpihClGHm5JFwppp+XHCPGYWf+djz4kYiGwW26IkQpRl4uCVeK6eclx6Cw82MkomFwm64IUYqRl0vClWL6eckxKOz8GIloGNymK0KUYuTlknClmH5ecowYh12IL6OKhsFtuiJEKUZeLglXiunnJcfQIeyC/wW5aBjcpitClGLk5ZJwpZh+XnKMGIfdxN0+tmJ+5MV5kUdEw+A2XRGiFCMvl4QrxfTzkmPEOOzY3T7Ugl9Q48eHWkTD4DbdEpYUIy/3hCjF9POSY8Q77MxHGOfp9Plzn+NNJnp08oJoGNymW8KSYuTlnhClmH5ecox4h5357kfn7W5+fM+P11BFw+A23RKWFCMv94QoxfTzkmNMhd2GDRtiGHbAK5vW4k1TU7EDO7csXzFoNpGJqS9fFb3yOk1Ew+A2MyAUKUZeGRGWFNPPSw6ssnjxYjPs9u7dC2HX3d3d398fk7CDAZhfqWoDpmVb2HwDkccdEF0Dt5kBoUgx8sqIsKSYfl4Sdm9ebaTDLi8vD8KupKQEwq6lpSVWYYc0T+/PgpiPP86Tc1eIhsFtZkzAUoy8PBC8FNPPSwQm3YIFCzDsCgoKSktL9+3bd+jQoZ6enoGBgViFXcCIhsFtKgR5qYVuXlww6ebOnbtw4cKsrKzly5dD2O3atauuru7w4cO9vb0QdqOjo5A8FHaZIBoGt6kQ5KUWunk5eX1bASw5Z86cefPmLVq0KDs7e9WqVYWFheXl5fX19W1tbX19fYODgxR2mSMaBrepEOSlFrp52agtL14y615cGMnJyVm9evXmzZsrKioOHDjQ0dGRSCTMsEulUhh2P6bLnlIzVBR2akBeaqGbl5V39uxcNvuByxe+ZlPPZIGlS5euWbOmuLi4srKysbGxs7Pz1KlTyWRybGyMwi5DRMPgNhWCvNRCNy+T5rerVz7+4NDXPWwq6fDf3NzcdevWbdmypaqqqqmpqaurC8IOAmd8fHxycpLCLhNEw+A2FYK81EI3L+TYwbr1ix85293OLEmHa5lhV11dLQo7fMGOwm66iIbBbSoEeamFbl7AJ+3vFeY+2X30ILsz6XAt7tNYCjtPiIbBbSoEeamFbl5f/OPIi88ugTM75kg6XCsnJyc/P7+oqKiioqKhoeHo0aMUdl7hDmPg9ElnUy3ISy1089pZ8IdDDXsYL+lwLdtbTzo6OqxhB/lDYeca5zAuDn6BA3AurBDkpRa6ef295s9MkHS4VlZW1ooVKzZu3FhWVlZXV9fW1pZIJOjMzhO2YVy/Mgw3ff1ft5FXNCEvtRB5MXHS4VrWj4vhJygg7JLJJIVd5liH8cPtq3DTv1GyCfvOhRWCvNRCNy9J0uFa1rDbv39/a2srfoJibGyMwi5DrMOAm/4vxc/hD+QVTchLLSReoqTDtcxvPYGwq62thbDr7e2lT1B4whwG3PR/KlyJP1gnpCjkpRa6eUmSDteyfsWT9VtPKOwyB4cBN/329UuZZRLkFU3ISy1EXs4lbWs5v88u5LAbGhqKxzBefHYJu3MS5BVNyEstRF5yDMs3FXPDLoRvPcGwU53C3Cedk3AuphzkpRZaeckxpF/LHlrY9fX1NTc3//ZXP5umRjQRTWLJrHudTYUgL7XQzUuEIfiDO6F9Lfvk5OTw8HAikYjrJH738P3OpkKQl1ro5iVBFHah/XUxCLuRkZFnfvNzVxpRQzSJZbMfcDYVgrzUQjcvOVEMu5WP//THxmOA7bZe9cRDzmVUhLzUQhOvu2JE7Y9k45ldBiaRQjQMblMhyEstdPOSQ2HnC6JhcJsKQV5qoZuXnCiGXWzeZ8ftO5sKQV5qoZuXnMiFHWySwi6ykJda6OYlJ3JhF6dPUHD7zqZCkJda6OYlh8LOF0TD4DYVgrzUQjcvOVEMu9h8EQC372wqBHmphW5ecijsfEE0DG5TIchLLXTzkhOtsEulUrDJZDKZgUmkEA2D21QI8lIL3bzkUNj5gmgY3KZCkJda6OYlJ1phh09jKewiC3mphW5ecqIYdvSaXWQhL7XQzUsOhZ0viIbBbSoEeamFbl5ydAm75sZ9RfnP4G0EvLJpbWdLk3OxmUI0DG7TO+BSse2PNRU7nBfNLOTlncCkWCBeAR9ZiMhLjhH7sJu42L82e745DCswmFuTo85VvCMaBreZMaAGdzVTJ4Djh7wyJngp5rNXKEcWIvKSY8Q+7MyHnYaaSuzAGOCuhk14jHWu4h3RMLjNDLA9nCIBHD/klQFhSTGfvUI5shCRlxwj3mEHZ9R4u8AdznaROZXz5z53rugR0TC4TbdYTxDgfvZZVyv+HMDxQ15uCVGK+ekV1pGFiLzkGPEOO3h4gata9tiDzpNqOAk374LOFT0iGga36Ra4e8H9yfrKCG4ugOOHvNwSohTz0yusIwsReckx4h12MAxDfEaN5+Hwr/Mij4iGwW16BzcXwPFDXt4JTIr56RXWkYWIvOQYMQ478xHGeaaN4KPTjGzLhuhquU3v4OYCOH7IyzuBSTHfvEI8spDMrtyIcdid7TsuH4n54oLzVNwjomFwm97BzQVw/JCXdwKTYr55hXhkISIvOYYOYSd64485Enikcl7qBdEwuE3v4OYCOH7IyzuBSTHfvEI8shCRlxwjxmFn/uYr+JGIhsFtegc3F8DxQ17eCUyK+eYV4pGFiLzkGDEOO/O348GPRDQMbtM7uLkAjh/y8k5gUsw3rxCPLETkJcegsPNjJKJhcJvewc0FcPyQl3cCk2K+eYV4ZCEiLzkGhZ0fIxENg9v0Dm4ugOOHvLwTmBTzzSvEIwsReckxYhx2Ib6MKhoGt+kd3FwAxw95eScwKeabV4hHFiLykmPoEHbB/4JcNAxu0zu4uQCOH/LyTmBSzDevEI8sROQlx4hx2N31YyvmR16cF3lENAxu0zu4uQCOH/LyTmBSzDevEI8sROQlx4hx2LG7fagFv6DGjw+1iIbBbXoHNxfA8UNe3glMivnpFdaRhYi85BjxDjvJx5XPn/scbzLRo5MXRMPgNr2Dmwvg+CEv7wQmxfz0CuvIQkRecox4h5357kfn7W5+fM+P11BFw+A2vYObC+D4IS/vBCbF/PQK68hCRF5yjKmw27BhQwzDDnhl01rb3cv6FYO2+9zE1Jevil55nSaiYXCb3uG6mMyUFCOvmSAwKeazVyhHFiLykgOrLF682Ay7vXv3Qth1d3f39/fHJOxgAM7viUVgWraFzTcQedwB0TVwm97BzYmOn5mSYuQ1EwQmxXz2CuXIQjK4nt2bVxvpsMvLy4OwKykpgbBraWmJVdghzdP7syDm44/z5NwVomFwm97BzYmOn5mSYuQ1EwQmxQLxCvjIQkReIjDpFixYgGFXUFBQWlq6b9++Q4cO9fT0DAwMxCrsAkY0DG5TIchLLXTz4oJJN3fu3IULF2ZlZS1fvhzCbteuXXV1dYcPH+7t7YWwGx0dheShsMsE0TC4TYUgL7XQzcvJ69sKYMk5c+bMmzdv0aJF2dnZq1atKiwsLC8vr6+vb2tr6+vrGxwcpLDLHNEwuE2FIC+10M3LRm158ZJZ9+LCSE5OzurVqzdv3lxRUXHgwIGOjo5EImGGXSqVwrD7MV32lJqhorBTA/JSC928rLyzZ+ey2Q9cvvA1m3omCyxdunTNmjXFxcWVlZWNjY2dnZ2nTp1KJpNjY2MUdhkiGga3qRDkpRa6eZk0v1298vEHh77uYVNJh//m5uauW7duy5YtVVVVTU1NXV1dEHYQOOPj45OTkxR2mSAaBrepEOSlFrp5IccO1q1f/MjZ7nZmSTpcywy76upqUdjhC3YUdtNFNAxuUyHISy108wI+aX+vMPfJ7qMH2Z1Jh2txn8ZS2HlCNAxuUyHISy108/riH0defHYJnNkxR9LhWjk5Ofn5+UVFRRUVFQ0NDUePHqWw8wp3GAOnTzqbakFeaqGb186CPxxq2MN4SYdr2d560tHRYQ07yB8KO9c4h3Fx8AscgHNhhSAvtdDN6+81f2aCpMO1srKyVqxYsXHjxrKysrq6ura2tkQiQWd2nrAN4/qVYbjp6/+6jbyiCXmphciLiZMO17J+XAw/QQFhl0wmKewyxzqMH25fhZv+jZJN2HcurBDkpRa6eUmSDteyht3+/ftbW1vxExRjY2MUdhliHQbc9H8pfg5/IK9oQl5qIfESJR2uZX7rCYRdbW0thF1vby99gsIT5jDgpv9T4Ur8wTohRSEvtdDNS5J0uJb1K56s33pCYZc5OAy46bevX8oskyCvaEJeaiHyci5pW8v5fXYhh93Q0FA8hvHis0vYnZMgr2hCXmoh8pJjWL6pmBt2IXzrCYad6hTmPumchHMx5SAvtdDKS44h/Vr20MKur6+vubn5t7/62TQ1ooloEktm3etsKgR5qYVuXiIMwR/cCe1r2ScnJ4eHhxOJRFwn8buH73c2FYK81EI3LwmisAvtr4tB2I2MjDzzm5+70ogaokksm/2As6kQ5KUWunnJiWLYrXz8pz82HgNst/WqJx5yLqMi5KUWmnjdFSNqfyQbz+wyMIkUomFwmwpBXmqhm5ccCjtfEA2D21QI8lIL3bzkRDHsYvM+O27f2VQI8lIL3bzkRC7sYJMUdpGFvNRCNy85kQu7OH2Cgtt3NhWCvNRCNy85FHa+IBoGt6kQ5KUWunnJiWLYxeaLALh9Z1MhyEstdPOSQ2HnC6JhcJsKQV5qoZuXnGiFXSqVgk0mk8kMTCKFaBjcpkKQl1ro5iWHws4XRMPgNhWCvNRCNy850Qo7fBpLYRdZyEstdPOSE8Wwo9fsIgt5qYVuXnIo7HxBNAxuUyHISy1085KjS9g1N+4ryn8GbyPglU1rO1uanIvNFKJhcJveAZeKbX+sqdjhvGhmIS/vBCbFAvEK+MhCRF5yjNiH3cTF/rXZ881hWIHB3Jocda7iHdEwuM2MATW4q5k6ARw/5JUxwUsxn71CObIQkZccI/ZhZz7sNNRUYgfGAHc1bMJjrHMV74iGwW1mgO3hFAng+CGvDAhLivnsFcqRhYi85BjxDjs4o8bbBe5wtovMqZw/97lzRY+IhsFtusV6ggD3s8+6WvHnAI4f8nJLiFLMT6+wjixE5CXHiHfYwcMLXNWyxx50nlTDSbh5F3Su6BHRMLhNt8DdC+5P1ldGcHMBHD/k5ZYQpZifXmEdWYjIS44R77CDYRjiM2o8D4d/nRd5RDQMbtM7uLkAjh/y8k5gUsxPr7COLETkJceIcdiZjzDOM20EH51mZFs2RFfLbXoHNxfA8UNe3glMivnmFeKRhWR25UaMw+5s33H5SMwXF5yn4h4RDYPb9A5uLoDjh7y8E5gU880rxCMLEXnJMXQIO9Ebf8yRwCOV81IviIbBbXoHNxfA8UNe3glMivnmFeKRhYi85BgxDjvzN1/Bj0Q0DG7TO7i5AI4f8vJOYFLMN68QjyxE5CXHiHHYmb8dD34komFwm97BzQVw/JCXdwKTYr55hXhkISIvOQaFnR8jEQ2D2/QObi6A44e8vBOYFPPNK8QjCxF5yTEo7PwYiWgY3KZ3cHMBHD/k5Z3ApJhvXiEeWYjIS44R47AL8WVU0TC4Te/g5gI4fsjLO4FJMd+8QjyyEJGXHEOHsAv+F+SiYXCb3sHNBXD8kJd3ApNivnmFeGQhIi85RozD7q4fWzE/8uK8yCOiYXCb3sHNBXD8kJd3ApNivnmFeGQhIi85RozDjt3tQy34BTV+fKhFNAxu0zu4uQCOH/LyTmBSzE+vsI4sROQlx4h32Ek+rnz+3Od4k4kenbwgGga36R3cXADHD3l5JzAp5qdXWEcWIvKSY8Q77Mx3Pzpvd/Pje368hioaBrfpHdxcAMcPeXknMCnmp1dYRxYi8pJjTIXdhg0bYhh2wCub1truXtavGLTd5yamvnxV9MrrNBENg9v0DtfFZKakGHnNBIFJMZ+9QjmyEJGXHFhl8eLFZtjt3bsXwq67u7u/vz8mYQcDcH5PLALTsi1svoHI4w6IroHb9A5uTnT8zJQUI6+ZIDAp5rNXKEcWksH17N682kiHXV5eHoRdSUkJhF1LS0uswg5pnt6fBTEff5wn564QDYPb9A5uTnT8zJQUI6+ZIDApFohXwEcWIvISgUm3YMECDLuCgoLS0tJ9+/YdOnSop6dnYGAgVmEXMKJhcJsKQV5qoZsXF0y6uXPnLly4MCsra/ny5RB2u3btqqurO3z4cG9vL4Td6OgoJA+FXSaIhsFtKgR5qYVuXk5e31YAS86ZM2fevHmLFi3Kzs5etWpVYWFheXl5fX19W1tbX1/f4OAghV3miIbBbSoEeamFbl42asuLl8y6FxdGcnJyVq9evXnz5oqKigMHDnR0dCQSCTPsUqkUht2P6bKn1AwVhZ0akJda6OZl5Z09O5fNfuDyha/Z1DNZYOnSpWvWrCkuLq6srGxsbOzs7Dx16lQymRwbG6OwyxDRMLhNhSAvtdDNy6T57eqVjz849HUPm0o6/Dc3N3fdunVbtmypqqpqamrq6uqCsIPAGR8fn5ycpLDLBNEwuE2FIC+10M0LOXawbv3iR852tzNL0uFaZthVV1eLwg5fsKOwmy6iYXCbCkFeaqGbF/BJ+3uFuU92Hz3I7kw6XIv7NJbCzhOiYXCbCkFeaqGb1xf/OPLis0vgzI45kg7XysnJyc/PLyoqqqioaGhoOHr0KIWdV7jDGDh90tlUC/JSC928dhb84VDDHsZLOlzL9taTjo4Oa9hB/lDYucY5jIuDX+AAnAsrBHmphW5ef6/5MxMkHa6VlZW1YsWKjRs3lpWV1dXVtbW1JRIJOrPzhG0Y168Mw01f/9dt5BVNyEstRF5MnHS4lvXjYvgJCgi7ZDJJYZc51mH8cPsq3PRvlGzCvnNhhSAvtdDNS5J0uJY17Pbv39/a2oqfoBgbG6OwyxDrMOCm/0vxc/gDeUUT8lILiZco6XAt81tPIOxqa2sh7Hp7e+kTFJ4whwE3/Z8KV+IP1gkpCnmphW5ekqTDtaxf8WT91hMKu8zBYcBNv339UmaZBHlFE/JSC5GXc0nbWs7vsws57IaGhuIxjBefXcLunAR5RRPyUguRlxzD8k3F3LAL4VtPMOxUpzD3SecknIspB3mphVZecgzp17KHFnZ9fX3Nzc2//dXPpqkRTUSTWDLrXmdTIchLLXTzEmEI/uBOaF/LPjk5OTw8nEgk4jqJ3z18v7OpEOSlFrp5SRCFXWh/XQzCbmRk5Jnf/NyVRtQQTWLZ7AecTYUgL7XQzUtOFMNu5eM//bHxGGC7rVc98ZBzGRUhL7XQxOuuGFH7I9l4ZpeBSaQQDYPbVAjyUgvdvORQ2PmCaBjcpkKQl1ro5iUnimEXm/fZcfvOpkKQl1ro5iUncmEHm6SwiyzkpRa6ecmJXNjF6RMU3L6zqRDkpRa6ecmhsPMF0TC4TYUgL7XQzUtOFMMuNl8EwO07mwpBXmqhm5ccCjtfEA2D21QI8lIL3bzkRCvsUqkUbDKZTGZgEilEw+A2FYK81EI3LzkUdr4gGga3qRDkpRa6ecmJVtjh01gKu8hCXmqhm5ecKIYdvWYXWchLLXTzkkNh5wuiYXCbCkFeaqGblxxdwq65cV9R/jN4GwGvbFrb2dLkXGymEA2D2/QOuFRs+2NNxQ7nRTMLeXknMCkWiFfARxYi8pJjxD7sJi72r82ebw7DCgzm1uSocxXviIbBbWYMqMFdzdQJ4Pghr4wJXor57BXKkYWIvOQYsQ8782GnoaYSOzAGuKthEx5jnat4RzQMbjMDbA+nSADHD3llQFhSzGevUI4sROQlx4h32MEZNd4ucIezXWRO5fy5z50rekQ0DG7TLdYTBLiffdbVij8HcPyQl1tClGJ+eoV1ZCEiLzlGvMMOHl7gqpY99qDzpBpOws27oHNFj4iGwW26Be5ecH+yvjKCmwvg+CEvt4Qoxfz0CuvIQkRecox4hx0MwxCfUeN5OPzrvMgjomFwm97BzQVw/JCXdwKTYn56hXVkISIvOUaMw858hHGeaSP46DQj27Ihulpu0zu4uQCOH/LyTmBSzDevEI8sJLMrN2Icdmf7jstHYr644DwV94hoGNymd3BzARw/5OWdwKSYb14hHlmIyEuOoUPYid74Y44EHqmcl3pBNAxu0zu4uQCOH/LyTmBSzDevEI8sROQlx4hx2Jm/+Qp+JKJhcJvewc0FcPyQl3cCk2K+eYV4ZCEiLzlGjMPO/O148CMRDYPb9A5uLoDjh7y8E5gU880rxCMLEXnJMSjs/BiJaBjcpndwcwEcP+TlncCkmG9eIR5ZiMhLjkFh58dIRMPgNr2Dmwvg+CEv7wQmxXzzCvHIQkRecowYh12IL6OKhsFtegc3F8DxQ17eCUyK+eYV4pGFiLzkGDqEXfC/IBcNg9v0Dm4ugOOHvLwTmBTzzSvEIwsReckxYhx2d/3YivmRF+dFHhENg9v0Dm4ugOOHvLwTmBTzzSvEIwsReckxYhx27G4fasEvqPHjQy2iYXCb3sHNBXD8kJd3ApNifnqFdWQhIi85RrzDTvJx5fPnPsebTPTo5AXRMLhN7+DmAjh+yMs7gUkxP73COrIQkZccI95hZ7770Xm7mx/f8+M1VNEwuE3v4OYCOH7IyzuBSTE/vcI6shCRlxxjKuw2bNgQw7ADXtm01nb3sn7FoO0+NzH15auiV16niWgY3KZ3uC4mMyXFyGsmCEyK+ewVypGFiLzkwCqLFy82w27v3r0Qdt3d3f39/TEJOxiA83tiEZiWbWHzDUQed0B0Ddymd3BzouNnpqQYec0EgUkxn71CObKQDK5n9+bVRjrs8vLyIOxKSkog7FpaWmIVdkjz9P4siPn44zw5d4VoGNymd3BzouNnpqQYec0EgUmxQLwCPrIQkZcITLoFCxZg2BUUFJSWlu7bt+/QoUM9PT0DAwOxCruAEQ2D21QI8lIL3by4YNLNnTt34cKFWVlZy5cvh7DbtWtXXV3d4cOHe3t7IexGR0cheSjsMkE0DG5TIchLLXTzcvL6tgJYcs6cOfPmzVu0aFF2dvaqVasKCwvLy8vr6+vb2tr6+voGBwcp7DJHNAxuUyHISy1087JRW168ZNa9uDCSk5OzevXqzZs3V1RUHDhwoKOjI5FImGGXSqUw7H5Mlz2lZqgo7NSAvNRCNy8r7+zZuWz2A5cvfM2mnskCS5cuXbNmTXFxcWVlZWNjY2dn56lTp5LJ5NjYGIVdhoiGwW0qBHmphW5eJs1vV698/MGhr3vYVNLhv7m5uevWrduyZUtVVVVTU1NXVxeEHQTO+Pj45OQkhV0miIbBbSoEeamFbl7IsYN16xc/cra7nVmSDtcyw666uloUdviCHYXddBENg9tUCPJSC928gE/a3yvMfbL76EF2Z9LhWtynsRR2nhANg9tUCPJSC928vvjHkRefXQJndsyRdLhWTk5Ofn5+UVFRRUVFQ0PD0aNHKey8wh3GwOmTzqZakJda6Oa1s+APhxr2MF7S4Vq2t550dHRYww7yh8LONc5hXBz8AgfgXFghyEstdPP6e82fmSDpcK2srKwVK1Zs3LixrKysrq6ura0tkUjQmZ0nbMO4fmUYbvr6v24jr2hCXmoh8mLipMO1rB8Xw09QQNglk0kKu8yxDuOH21fhpn+jZBP2nQsrBHmphW5ekqTDtaxht3///tbWVvwExdjYGIVdhliHATf9X4qfwx/IK5qQl1pIvERJh2uZ33oCYVdbWwth19vbS5+g8IQ5DLjp/1S4En+wTkhRyEstdPOSJB2uZf2KJ+u3nlDYZQ4OA2767euXMsskyCuakJdaiLycS9rWcn6fXchhNzQ0FI9hvPjsEnbnJMgrmpCXWoi85BiWbyrmhl0I33qCYac6hblPOifhXEw5yEsttPKSY0i/lj20sOvr62tubv7tr342TY1oIprEkln3OpsKQV5qoZuXCEPwB3dC+1r2ycnJ4eHhRCIR10n87uH7nU2FIC+10M1LgijsQvvrYhB2IyMjz/zm5640ooZoEstmP+BsKgR5qYVuXnKiGHYrH//pj43HANttveqJh5zLqAh5qYUmXnfFiNofycYzuwxMIoVoGNymQpCXWujmJYfCzhdEw+A2FYK81EI3LzlRDLvYvM+O23c2FYK81EI3LzmRCzvYJIVdZCEvtdDNS07kwi5On6Dg9p1NhSAvtdDNSw6FnS+IhsFtKgR5qYVuXnKiGHax+SIAbt/ZVAjyUgvdvORQ2PmCaBjcpkKQl1ro5iUnWmGXSqVgk8lkMgOTSCEaBrepEOSlFrp5yaGw8wXRMLhNhSAvtdDNS060wg6fxlLYRRbyUgvdvOREMezoNbvIQl5qoZuXHAo7XxANg9tUCPJSC9285OgSds2N+4ryn8HbCHhl09rOlibnYjOFaBjcZsYELMXIywPBSzH9vOQYsQ+7iYv9a7Pnm8OwAoO5NTnqXMU7omFwmxkQihQjr4wIS4rp5yXHiH3YmQ87DTWV2IEx1FTswGbFtj86V/GOaBjcZgaEIsXIKyPCkmL6eckx4h12cEaNtwucbNsuMqdy/tznzhU9IhoGt+mWsKQYebknRCmmn5ccI95hBw8vcFXLHnvQeVINJ+F4k5mPSzOIaBjcplvCkmLk5Z4QpZh+XnKMeIcdDMMQn1HjeTj867zII6JhcJtuCUuKkZd7QpRi+nnJMWIcduYjjPNMG8FHpxnZlg3R1XKbrghRipGXS8KVYvp5yTFiHHZn+47LR2K+uOA8FfeIaBjcpitClGLk5ZJwpZh+XnIMHcJO9MYfcyTwSOW81AuiYXCbrghRipGXS8KVYvp5yTFiHHafdbWGNRLRMLhNV4QoxcjLJeFKMf285BgxDjvzt+PBj0Q0DG7TFSFKMfJySbhSTD8vOQaFnR8jEQ2D23RFiFKMvFwSrhTTz0uOQWHnx0hEw+A2XRGiFCMvl4QrxfTzkmPEOOxCfBlVNAxu0xUhSjHyckm4Ukw/LzmGDmEX/C/IRcPgNl0RohQjL5eEK8X085JjxDjsJu72sRXzIy/OizwiGga36YoQpRh5uSRcKaaflxwjxmHH7vahFvyCGj8+1CIaBrfplrCkGHm5J0Qppp+XHCPeYWc+wjhPp8+f+xxvMtGjkxdEw+A23RKWFCMv94QoxfTzkmPEO+zMdz86b3fz43t+vIYqGga36ZawpBh5uSdEKaaflxxjKuw2bNgQw7ADXtm0Fm+amood2Lll+YpBs4lMTH35quiV12kiGga3mQGhSDHyyoiwpJh+XnJglcWLF5tht3fvXgi77u7u/v7+mIQdDMD8SlUbMC3bwuYbiDzugOgauM0MCEWKkVdGhCXF9POSsHvzaiMddnl5eRB2JSUlEHYtLS2xCjukeXp/FsR8/HGenLtCNAxuM2MClmLk5YHgpZh+XiIw6RYuXIhhV1BQUFpaWltb29ra2tPTMzAwMDo6CskTk7ALGNEwuE2FIC+10M2LCybdvHnzIOyysrJWrFixcePGXbt21dXVHTlypK+vj8LOE6JhcJsKQV5qoZuXk9e3FcCSc+fOnT9//qJFi3JycvLz84uKil577bUDBw50dHQkEonBwUEKu8wRDYPbVAjyUgvdvGzUlhcvmXXvY//6KJ7W4XPYdevWbd26tbq6uqmp6dixY6dOnYLAGR8fn5ycTKVSGHY/psueUjNUFHZqQF5qoZuXlXf27Fw2+4G5//MRTLqnnnpq6dKlcFpXWFj46quv7t27t7m5+eTJk2fPnh0eHp6YmKCwyxDRMLhNhSAvtdDNy6T57eqVjz+ISbdgwQJ8ArtixYqCgoKXXnqpqqqqsbGxra2tt7f33LlzFy5cuHLlyvXr1yF/IOzwOSyF3XQRDYPbVAjyUgvdvJBjB+vWL35k7v/4r2bSZWdnL1++/Pnnny8uLt69e3ddXR2c1h0/fhyeww4ODl66dOnq1as3btyA/Pn+++8p7NwhGga3qRDkpRa6eQGftL9XmPskJN3cuXPNpMOX6jZv3lxWVlZTU/P+++93dnb29PR89dVXQ0ND4+PjEDs3b968ffs2hZ1rRMPgNhWCvNRCN68v/nHkxWeXOJPuueeew6R78803m5qa2tvbP/3009OnT8Np3cWLF+E5rPUFOwo7d3CHMXD6pLOpFuSlFrp57Sz4w7yHf2k+e83KyoKkW7NmTVFR0auvvvrGG280NjYePnz45MmTiUTim2++GR4ehtO6b7/9Fk7rgnkOy3QIu4uDX+CbG50LKwR5qYVuXpB05jkdJF1ubi4mXWlp6Z49exoaGg4dOnTixAlIOngCCzkzOjqKv5rA0zoKu0ywDeP6lWGcBHlFE/JSC5GX+eZha9KVlJRA0h04cKClpeXjjz/u7e398ssv8Qns5cuX8dU687SOws411mH8cPsqTGL+f/lPjz76KHlFE/JSC66XNemWLVu2evVqSLodO3ZUV1dD0n300UddXV09PT2YdBcuXJiYmIC0uXHjRmCv1mHFOexwEnPSRV7RhLzUwumFSYcfk8CkKyws3L59e1VVVX19fXNzMybd2bNnBwYGRkZG8KU6M+msT2Ap7NxhDsO8h8Ew5s2bR17RhLzUwuY1naTr7u4+c+aMmXRXr17Fl+rMt5sEc1rH4hp2MIknZv1HvHstWLAAhkFe0YS81MLmZSbd73//+/z8/BdeeAGTDt88fOzYMUy6/v5+SLqxsTFMulu3bmHSBfYEFuuOsBsaGorHMKyTWLRoEQyDvKIJeamF08tMuo0bN27btq2yshKS7sMPP+zs7MS31EHSDQ8PW5MOfylhTbqgw25ychL2CWWU5olZ95sPpE8//XROTg6cYDsXUw7yUovYe2F844f8IelefvllM+mOHj2KSYdvqcM3mkDChJh0zAw7OKuEXYFTzVOnTh0+fPitt96CXX/++eeXL1+enZ391FNPgRjMbIEKtTBdsM9ZWVkwiRUrVqxZs2b9+vUbNmyAH+C/0ISLYAFc0r5+VIu8yCsKZfXC1+msSffBBx9Ykw6eLJpJh280sf36NbCkY9awu3HjxqVLl2AXYV/r6+tfffXVwsJCMMnLy4MHJRCDFH96qp6KZOG+wX7i3Qv2HB5zCgoKioqKitMFP8C9bdWqVbm5uaaU6WW/usgUeZFXFMrpBakNKYHPXvfv349J98knn0Qw6ZgZdrATsDfwvPrrr78+ceJEU1NTVVUVpPULL7wAPjAVOMUDt2Xp+n1UC/YN7j2wn/CwCXcvuD/BJF566aXS0tKydO3YsWPz5s1wt7NKwSrkFUqRl+pe+H46PKc7ePAgJh08O4xg0jEMO9gqPItOpVKwZ8lksre398iRI7D34LB9+3Z4IIJRwWDg9Ht9utatW/dcJAt2DJ8m4KPoli1b4O4FFm+88UZNTc2bb74JCQ53NQhxuKuZUvBsnbxCKfJS2mvr1q27du16/fXX8V0m+OwVku7cuXMRTDpmDTv8hezFixfh5A7i+dChQw0NDTAbGEx5eTk8qy0pKdmeLjhrfTmqBbsHDzWwt7DPsOew/zAJOFF9P12NjY21tbV/+9vf4J6HUnAvhOXJK6wiL6W99u7dCy4tLS2dnZ2fffaZ5NlrkG8eFtW/h535TBZ2cWRk5Msvv4SQhqiGwH733XdhTvCE/K233oKZvTFVf4te4Y7BI+e+ffvgzBTGAKfWkNrt7e1H09XW1gZGeG9DKZgWeMEq5BV8kZfqXh9++CG4HD9+vKenJ+JJx6xhhyd3sIsTExPDw8NwfpdIJOAUr6urC4bU2tr60UcfwYRgbB+kCx+jIlWwV7B7MADYz8OHD3d0dMDOgwI85vSkC36A/3788cfHjh2zSsEq5BV8kZfqXqAALhAUcHqEn5GIbNIxM+yg4Bk17Fkqlbp+/frly5fh+WwymYSn32fOnAEZmBCc68GETp48eXyqPo5Y4V7BHsJ+dnd39/b2wp7DAw5M4quvvoL4hn/hZzA6deoUXAQL4N0OVjlx4gR5BVzkpbRXX18f7P/Zs2fhhO78+fMXLlwYHx+PbNIxa9jhyR3m3Y0bN7799ls4xbt06RKkNaRef38/BB8OCfTORLhg92An4S4FM4BHG9h5OLWGc9WRqYKfYTaDg4NwKSwDS36ZLvsVRazIi7yiUDYvUBhJn9BBXFy9ejWySccw7Jgj72BfYY9hv2HvwWFsbAxSD5IbxgMDOx/tGkoXDAB2GM5PYQzwgDORrsvpgh+gA32UwrsdeYVV5KWuF+w5hMNEOubwW5vwMxIRTDpmhh2z5B08n4UdvX37NpziQeTBs1rQABk4QcVRjUe+zLsU7DOOYTJd19OFP0MTzl7JKwpFXip6oRTsPFhAzEFW4HeZROFdJtz6/2HHLHlnnuJh5EFagwn4mBPCIUWzzD2EvcUZQIFC6s4ypcgr3CIv1b1Qyjyhi2bSMW7YmXmHp3gYed+lyxxPxMu8J+Fu46ONrWxS5BVikVcMvMyYi2bSMVvYMUve/Xhn5GHqKVe451g/3Flm376OCmXRIi8FyqIVT68fHDH3Y8SSjjnDjt2Zdz9ORZ4ZfAqVdc/lZV8z2mXfe3HZ14x22fdeXPY1o132vReXfc1ol23nbblhj5UIFCfssGy7bi2bZATLvsfTK/u1RK/sezy9sl9L9Mq+x9Mr+7VEr+x7PL2yX0v0yr7Hd5Y9SiJTwrDDsntQUVFR8cqeHdGru4QdFRUVVTyKwo6KikqLorCjoqLSoijsqKiotCgKOyoqKi2Kwo6KSvm6fft2RUXF/PnzZ8/+F2Du3LllZWW3bt2yLyeuq1evNjU11dTUwA/2y+JSFHZUVGrX8PAwBNzWrS9dvnwZO1euXNm+ffuvf/3r/v7+O5cV1tatW++Zqp6eHvvFsSgKOyoqhSuVSkGowUkZ/Hzt2rU333xz27Zt8O/FixehCRfBAvZ1eDUwMADndPDvfffdt2rVKvvFsSgKOyoqhWv37t35+fnww8mTJyHaXnrppQMHDsBz2D179kATLoKfzYXh9A3P2iDU4Gds1qQLf7aGHfZh+fLy8qvpgv/Cz7AMSz/thZ/hSjBnzY75X9sm2tvbsQP/wmLwX+jDlW9NF14nXmTujLVgeVwSn2XjztRYnnTDRbgMXjNcZC5sFoUdFZXC9eijjx4/fvz777//5S9/2dvba7sULoIFzP9CGmZnZ8MPEGfwdBVyAeIAfoCIYelAgZ8h7DAvFixYAD/D1UITsuOX6YIm/BdSCa4BLoVrg/+ydLjAD7DAfemCBfDacLuwFsYQXj9eFWwU/gu7BJ2t6RSG/8IVwkXQNPeZTe0tLtmeLtwKFu4tXjMuideA/7VeD4UdFZXCBcf2d999B6d1s2f/i/0yxm7dugXHvPlfjCSMFUwWSBlYAM+AIKEKCgqgjxmBYYd9OF+DPvyLQQPXA0vCD3jSB8tAvkCHpc+54Gcz2nC71rDDEze4TnMVc9PQgWVwJ/FcDws3hD/D9cPuwRXif+EHjO970tnN0oGOl8IqVveflrH+h4qKSq2C4zmVSnV0dHDDDnLQTBws8+QLT6zgBzNxsBaky/oDm/r1xdapwljBZIRsgmDCKMSFIX1gRVHY4bosHU8YfOYymJJYZthhNJtXztLKW6eeIKMFs4SdudvWHcCisKOiUrjwaez169chAs6cOWO79MSJE3PmzLF2tqZjC8/dYBXzHAqSC18vM+PPGnYYHNDHl/Bqpl68w6yBsy1cGC7Fa6hJv9iHcdaePhl0hh1kIpyFwX970oXRCaGGP2MTMw5P1uC/7enCc0A8zYQf0IXCjooq5vXaa6+tWbMGfnjzzTfhyK+qqoKDvK6urrKyEppw0e7du63LQzDdl35NjaWDD58DsqnXxaAgKfBSa9hZF7gnHWH4ah0uz9LJsiD9ct596VfK8LkthBR2uGEH4YUL3JM+Z4RVzP/C8nApbOK+9PNQWMW6JOyeuXX4Aff2Hgo7Kqp4FzxRhSB4//334efe3t4tW7auX7++tLT0m2++aW5uhoucby3umXob3dX0e03Mvu2/zoIFzKhi6euxLT+Qfv+KtQPL2Dq2GkiX9b+i3bNd1V331lkUdlRUahe+qfjll18231R87dq1srKyX7t5U7EORWFHRaV82T4uBj+Ul5c7z+k0Lwo7KioqLYrCjoqKSouisKOiotKi/h9QjAZFfO5OSgAAAABJRU5ErkJggg==)"
      ],
      "metadata": {
        "id": "djCgWbt32oy7"
      }
    },
    {
      "cell_type": "code",
      "source": [
        "x = np.ones((3,3))\n",
        "print(x)\n",
        "print(\"0 on the border and 1 inside in the array\")\n",
        "x = np.pad(x, pad_width=1, mode='constant', constant_values=0)\n",
        "print(x)"
      ],
      "metadata": {
        "colab": {
          "base_uri": "https://localhost:8080/"
        },
        "id": "hp8mbcaJYXPs",
        "outputId": "99324d7f-ecad-47c6-dc44-8f87a8f33d28"
      },
      "execution_count": 39,
      "outputs": [
        {
          "output_type": "stream",
          "name": "stdout",
          "text": [
            "[[1. 1. 1.]\n",
            " [1. 1. 1.]\n",
            " [1. 1. 1.]]\n",
            "0 on the border and 1 inside in the array\n",
            "[[0. 0. 0. 0. 0.]\n",
            " [0. 1. 1. 1. 0.]\n",
            " [0. 1. 1. 1. 0.]\n",
            " [0. 1. 1. 1. 0.]\n",
            " [0. 0. 0. 0. 0.]]\n"
          ]
        }
      ]
    },
    {
      "cell_type": "markdown",
      "source": [
        "### Q5. Create a NumPy array [1 2 3 4 5 6] and find the indices of the maximum and minimum values along the given axis of an array \n",
        "\n"
      ],
      "metadata": {
        "id": "XXjEH-HlKk0Q"
      }
    },
    {
      "cell_type": "code",
      "source": [
        "x = np.array([1,2,3,4,5,6])\n",
        "print(x.argmin())\n",
        "print(x.argmax())"
      ],
      "metadata": {
        "id": "aRV6Fcy0Kjwn",
        "colab": {
          "base_uri": "https://localhost:8080/"
        },
        "outputId": "6fac005b-07d5-44df-9436-1a8907beaa2e"
      },
      "execution_count": 38,
      "outputs": [
        {
          "output_type": "stream",
          "name": "stdout",
          "text": [
            "0\n",
            "5\n"
          ]
        }
      ]
    },
    {
      "cell_type": "markdown",
      "source": [
        "### Q6. Find the 4th element of the below array by writing a numpy program:\n",
        "[[ 2  4  6]                                                            \n",
        " [ 6  8 10]]   "
      ],
      "metadata": {
        "id": "DQD9gpFcKoF1"
      }
    },
    {
      "cell_type": "code",
      "source": [
        "np.array([[2,4,6],[6,8,10]])[1,0]"
      ],
      "metadata": {
        "id": "YxRQ0wSN5EcO",
        "colab": {
          "base_uri": "https://localhost:8080/"
        },
        "outputId": "96b25d41-18b8-4e4f-8ef6-75d44b2b69fc"
      },
      "execution_count": 35,
      "outputs": [
        {
          "output_type": "execute_result",
          "data": {
            "text/plain": [
              "6"
            ]
          },
          "metadata": {},
          "execution_count": 35
        }
      ]
    },
    {
      "cell_type": "markdown",
      "source": [
        "### Q7. Create the below numpy array, assign it to variable x and print x[[0,1,2],[0,1,3]] and interpret the results\n",
        "[[ 0  1  2  3]\n",
        "\n",
        " [ 4  5  6  7]\n",
        "\n",
        "\n",
        " [ 8  9 10 11]\n",
        "\n",
        " [12 13 14 15]]"
      ],
      "metadata": {
        "id": "wSnDfryPKppZ"
      }
    },
    {
      "cell_type": "code",
      "source": [
        "x = np.arange(0,16).reshape(4,4)\n",
        "print(x)\n",
        "print()\n",
        "print(x[[0,1,2],[0,1,3]]) \n",
        "#0th index row 0th index column -> 0\n",
        "#1st index row 1st index column -> 5\n",
        "#2nd index row 3rd index column -> 11"
      ],
      "metadata": {
        "id": "0fMyYsiRKrvC",
        "colab": {
          "base_uri": "https://localhost:8080/"
        },
        "outputId": "94dddce7-8a09-4eb3-bd15-35d12a1d01ea"
      },
      "execution_count": 32,
      "outputs": [
        {
          "output_type": "stream",
          "name": "stdout",
          "text": [
            "[[ 0  1  2  3]\n",
            " [ 4  5  6  7]\n",
            " [ 8  9 10 11]\n",
            " [12 13 14 15]]\n",
            "\n",
            "[ 0  5 11]\n"
          ]
        }
      ]
    },
    {
      "cell_type": "markdown",
      "source": [
        "### Q8. Refer documention on np.where() method and solve the following problem:\n",
        "- Get the positions where elements of a and b match\n",
        "\n",
        "Input:\n",
        "\n",
        "> a = np.array([1,2,3,2,3,4,3,4,5,6])\n",
        "\n",
        "> b = np.array([7,2,10,2,7,4,9,4,9,8])\n",
        "\n",
        "Expected Output:\n",
        "\n",
        "> array([1, 3, 5, 7])"
      ],
      "metadata": {
        "id": "IXlEk0lHKs25"
      }
    },
    {
      "cell_type": "code",
      "source": [
        "a = np.array([1,2,3,2,3,4,3,4,5,6])\n",
        "b = np.array([7,2,10,2,7,4,9,4,9,8])\n",
        "print(np.where(a==b))"
      ],
      "metadata": {
        "id": "79JfENpAKvfa",
        "colab": {
          "base_uri": "https://localhost:8080/"
        },
        "outputId": "8b25dd6d-f989-4886-8d72-242ac610a6f1"
      },
      "execution_count": 30,
      "outputs": [
        {
          "output_type": "stream",
          "name": "stdout",
          "text": [
            "(array([1, 3, 5, 7]),)\n"
          ]
        }
      ]
    },
    {
      "cell_type": "markdown",
      "source": [
        "### Q9. Create a 8 x 8 numpy array with the following pattern:\n",
        "> [[0 1 0 1 0 1 0 1]                                                      \n",
        " [1 0 1 0 1 0 1 0]                                                      \n",
        " [0 1 0 1 0 1 0 1]                                                      \n",
        " [1 0 1 0 1 0 1 0]                                                      \n",
        " [0 1 0 1 0 1 0 1]                                                      \n",
        " [1 0 1 0 1 0 1 0]                                                      \n",
        " [0 1 0 1 0 1 0 1]                                                      \n",
        " [1 0 1 0 1 0 1 0]]"
      ],
      "metadata": {
        "id": "CJTRQrlp5E1f"
      }
    },
    {
      "cell_type": "code",
      "source": [
        "x = np.zeros((8,8),dtype=int)\n",
        "x[1::2,::2] = 1\n",
        "x[::2,1::2] = 1\n",
        "print(x)"
      ],
      "metadata": {
        "id": "yeNWiECIHbvY",
        "colab": {
          "base_uri": "https://localhost:8080/"
        },
        "outputId": "7aac20ec-c162-4477-9d46-aaabfab43f43"
      },
      "execution_count": 29,
      "outputs": [
        {
          "output_type": "stream",
          "name": "stdout",
          "text": [
            "[[0 1 0 1 0 1 0 1]\n",
            " [1 0 1 0 1 0 1 0]\n",
            " [0 1 0 1 0 1 0 1]\n",
            " [1 0 1 0 1 0 1 0]\n",
            " [0 1 0 1 0 1 0 1]\n",
            " [1 0 1 0 1 0 1 0]\n",
            " [0 1 0 1 0 1 0 1]\n",
            " [1 0 1 0 1 0 1 0]]\n"
          ]
        }
      ]
    },
    {
      "cell_type": "markdown",
      "source": [
        "### Q10. Write a NumPy program to create a 2d array with 1 on the border and 0 inside as shown below\n",
        "![assn.png](data:image/png;base64,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)"
      ],
      "metadata": {
        "id": "QW9ipPooLj7k"
      }
    },
    {
      "cell_type": "code",
      "source": [
        "x = np.ones((5,5))\n",
        "print(x)\n",
        "print()\n",
        "x[1:-1,1:-1] = 0\n",
        "print(x)"
      ],
      "metadata": {
        "id": "eD60Nk14Lkg6",
        "colab": {
          "base_uri": "https://localhost:8080/"
        },
        "outputId": "dfc56cf2-5fea-440a-abd8-94bac5ac439b"
      },
      "execution_count": 28,
      "outputs": [
        {
          "output_type": "stream",
          "name": "stdout",
          "text": [
            "[[1. 1. 1. 1. 1.]\n",
            " [1. 1. 1. 1. 1.]\n",
            " [1. 1. 1. 1. 1.]\n",
            " [1. 1. 1. 1. 1.]\n",
            " [1. 1. 1. 1. 1.]]\n",
            "\n",
            "[[1. 1. 1. 1. 1.]\n",
            " [1. 0. 0. 0. 1.]\n",
            " [1. 0. 0. 0. 1.]\n",
            " [1. 0. 0. 0. 1.]\n",
            " [1. 1. 1. 1. 1.]]\n"
          ]
        }
      ]
    }
  ]
}