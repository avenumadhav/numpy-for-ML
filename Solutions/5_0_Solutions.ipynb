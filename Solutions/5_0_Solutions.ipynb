{
  "nbformat": 4,
  "nbformat_minor": 0,
  "metadata": {
    "colab": {
      "name": "5.0 Solutions.ipynb",
      "provenance": [],
      "collapsed_sections": []
    },
    "kernelspec": {
      "name": "python3",
      "display_name": "Python 3"
    },
    "language_info": {
      "name": "python"
    }
  },
  "cells": [
    {
      "cell_type": "markdown",
      "source": [
        "# 5.0 Solutions: Selections and Saving"
      ],
      "metadata": {
        "id": "bHhg9s0BlL_c"
      }
    },
    {
      "cell_type": "markdown",
      "source": [
        "### Q1. Follow the instructions below:\n",
        "1. Create a numpy array of shape 7 x 5 using \n",
        "-  a) np.random.randint(1,100,35) \n",
        "-   b) reshape property  \n",
        "2. Replace all elements of that numPy array that are greater than 75 with 0 "
      ],
      "metadata": {
        "id": "OcT9PQgZjxVr"
      }
    },
    {
      "cell_type": "code",
      "execution_count": 17,
      "metadata": {
        "id": "i-HsQXrhjrW1",
        "colab": {
          "base_uri": "https://localhost:8080/"
        },
        "outputId": "fc82edd4-dc5c-4d21-ec29-7c79280789ed"
      },
      "outputs": [
        {
          "output_type": "stream",
          "name": "stdout",
          "text": [
            "[[67 93 99 18 84]\n",
            " [58 87 98 97 48]\n",
            " [74 33 47 97 26]\n",
            " [84 79 37 97 81]\n",
            " [69 50 56 68  3]\n",
            " [85 40 67 85 48]\n",
            " [62 49  8 93 53]]\n",
            "\n",
            "[[67  0  0 18  0]\n",
            " [58  0  0  0 48]\n",
            " [74 33 47  0 26]\n",
            " [ 0  0 37  0  0]\n",
            " [69 50 56 68  3]\n",
            " [ 0 40 67  0 48]\n",
            " [62 49  8  0 53]]\n"
          ]
        }
      ],
      "source": [
        "import numpy as np\n",
        "np.random.seed(123)\n",
        "arr_x = np.random.randint(1,100,35).reshape(7,5)\n",
        "print(arr_x)\n",
        "print()\n",
        "arr_x[arr_x>75] = 0\n",
        "print(arr_x)\n"
      ]
    },
    {
      "cell_type": "markdown",
      "source": [
        "### Q2. Write a NumPy program to select the elements from the second array corresponding to elements in the first array that are greater than 10 and less than 20\n",
        "Input:\n",
        "> a = np.array([7, 11, 15, 19, 27])\n",
        "\n",
        "> b = np.array(['a','e','i','o','u'])\n",
        "\n",
        "\n",
        "Expected Output:\n",
        "> [ 'e' 'i' 'o' ]"
      ],
      "metadata": {
        "id": "k1c7HxBSlRoo"
      }
    },
    {
      "cell_type": "code",
      "source": [
        "a = np.array([7, 11, 15, 19, 27])\n",
        "b = np.array(['a','e','i','o','u'])\n",
        "z = b[(a>10) & (a<20)]\n",
        "print(z)\n"
      ],
      "metadata": {
        "id": "j-9I_nAqnWDT",
        "colab": {
          "base_uri": "https://localhost:8080/"
        },
        "outputId": "0de4f476-eea6-4be3-d074-6ee79ea4484e"
      },
      "execution_count": null,
      "outputs": [
        {
          "output_type": "stream",
          "name": "stdout",
          "text": [
            "['e' 'i' 'o']\n"
          ]
        }
      ]
    },
    {
      "cell_type": "markdown",
      "source": [
        "### Q3. Create a numpy array [-6 -5 -4 -3 -2 -1  0  1  2  3  4  5] and find the index of the array whose value is greater than 2\n",
        "- Hint: expected output is 9"
      ],
      "metadata": {
        "id": "r_LBVRvhnWYq"
      }
    },
    {
      "cell_type": "code",
      "source": [
        "x = np.array([-6, -5, -4, -3, -2, -1, 0, 1, 2, 3, 4, 5] )\n",
        "print(x)\n",
        "print()\n",
        "print(np.argmax([x>2]))"
      ],
      "metadata": {
        "id": "1oZNGwLPrXbP",
        "colab": {
          "base_uri": "https://localhost:8080/"
        },
        "outputId": "cdcc3eb6-c2d0-4452-834a-b118dcdd17ea"
      },
      "execution_count": null,
      "outputs": [
        {
          "output_type": "stream",
          "name": "stdout",
          "text": [
            "[-6 -5 -4 -3 -2 -1  0  1  2  3  4  5]\n",
            "\n",
            "9\n"
          ]
        }
      ]
    },
    {
      "cell_type": "markdown",
      "source": [
        "### Q4.  Write a program to create a numpy array  x = [-6 -5 -4 -3 -2 -1  0  1  2  3  4  5] and from it, generate another array, satisfying the condition x > 3\n",
        "- Hint: expected output is [4 5]"
      ],
      "metadata": {
        "id": "3x-0N6x7nXkr"
      }
    },
    {
      "cell_type": "code",
      "source": [
        "x = np.array([-6, -5, -4, -3, -2, -1, 0, 1, 2, 3, 4, 5] )\n",
        "print(x)\n",
        "print()\n",
        "print(x[x>3])"
      ],
      "metadata": {
        "id": "o3Sa7tRJsPLq",
        "colab": {
          "base_uri": "https://localhost:8080/"
        },
        "outputId": "f1e1c071-2461-4fa4-ad34-e88e8ecdab51"
      },
      "execution_count": null,
      "outputs": [
        {
          "output_type": "stream",
          "name": "stdout",
          "text": [
            "[-6 -5 -4 -3 -2 -1  0  1  2  3  4  5]\n",
            "\n",
            "[4 5]\n"
          ]
        }
      ]
    },
    {
      "cell_type": "markdown",
      "source": [
        "### Q5. Write a numPy program to fetch all items from a  array of 4,5 shape extracted from np.arange(20) with following conditions:\n",
        "- Greater than 6 and \n",
        "- Multiple of 3\n",
        "\n"
      ],
      "metadata": {
        "id": "iARsT8QFnZFx"
      }
    },
    {
      "cell_type": "code",
      "source": [
        "x = np.arange(20).reshape(4,5)\n",
        "print(x)\n",
        "print()\n",
        "print(x[(x>6)&(x%3==0)])"
      ],
      "metadata": {
        "id": "E0MlzMFNnZnr",
        "colab": {
          "base_uri": "https://localhost:8080/"
        },
        "outputId": "4cb7797a-c320-4392-c526-c09adac08ad0"
      },
      "execution_count": null,
      "outputs": [
        {
          "output_type": "stream",
          "name": "stdout",
          "text": [
            "[[ 0  1  2  3  4]\n",
            " [ 5  6  7  8  9]\n",
            " [10 11 12 13 14]\n",
            " [15 16 17 18 19]]\n",
            "\n",
            "[ 9 12 15 18]\n"
          ]
        }
      ]
    },
    {
      "cell_type": "markdown",
      "source": [
        "### Q6. Save the numpy array from Q1 in .npy format"
      ],
      "metadata": {
        "id": "ZrYjFfj4naZV"
      }
    },
    {
      "cell_type": "code",
      "source": [
        "np.save('array1', arr_x)"
      ],
      "metadata": {
        "id": "kZVAx2OCna4y"
      },
      "execution_count": 18,
      "outputs": []
    },
    {
      "cell_type": "markdown",
      "source": [
        "### Q7. Load the numpy array saved in Q6 "
      ],
      "metadata": {
        "id": "MTtYc0zZnphD"
      }
    },
    {
      "cell_type": "code",
      "source": [
        "np.load('array1.npy')"
      ],
      "metadata": {
        "id": "BvJJ75mcnnFX",
        "colab": {
          "base_uri": "https://localhost:8080/"
        },
        "outputId": "b5c8b8bb-f3dc-4cc8-cfcc-ad57d08b9e46"
      },
      "execution_count": 19,
      "outputs": [
        {
          "output_type": "execute_result",
          "data": {
            "text/plain": [
              "array([[67,  0,  0, 18,  0],\n",
              "       [58,  0,  0,  0, 48],\n",
              "       [74, 33, 47,  0, 26],\n",
              "       [ 0,  0, 37,  0,  0],\n",
              "       [69, 50, 56, 68,  3],\n",
              "       [ 0, 40, 67,  0, 48],\n",
              "       [62, 49,  8,  0, 53]])"
            ]
          },
          "metadata": {},
          "execution_count": 19
        }
      ]
    },
    {
      "cell_type": "markdown",
      "source": [
        "### Q8. Save the numpy array from Q1 in .txt format"
      ],
      "metadata": {
        "id": "ahNJtcK2nq8A"
      }
    },
    {
      "cell_type": "code",
      "source": [
        "np.savetxt('array2', arr_x)"
      ],
      "metadata": {
        "id": "cXYq1rzansfJ"
      },
      "execution_count": 21,
      "outputs": []
    },
    {
      "cell_type": "markdown",
      "source": [
        "### Q9. Save the numpy array from Q1 using np.savez() method (refer documentation)"
      ],
      "metadata": {
        "id": "Db2skcS5ns7E"
      }
    },
    {
      "cell_type": "code",
      "source": [
        "np.savez('array3', arr_x)"
      ],
      "metadata": {
        "id": "vX62wy6lnuc6"
      },
      "execution_count": 24,
      "outputs": []
    },
    {
      "cell_type": "markdown",
      "source": [
        "### Q10. Load the numpy array saved in Q8"
      ],
      "metadata": {
        "id": "QgPrDe1LnvKL"
      }
    },
    {
      "cell_type": "code",
      "source": [
        "np.loadtxt('array2')"
      ],
      "metadata": {
        "id": "aWy-YqHVnwiU",
        "colab": {
          "base_uri": "https://localhost:8080/"
        },
        "outputId": "b8b840c0-2c1a-4481-e41f-7c729b4905ed"
      },
      "execution_count": 23,
      "outputs": [
        {
          "output_type": "execute_result",
          "data": {
            "text/plain": [
              "array([[67.,  0.,  0., 18.,  0.],\n",
              "       [58.,  0.,  0.,  0., 48.],\n",
              "       [74., 33., 47.,  0., 26.],\n",
              "       [ 0.,  0., 37.,  0.,  0.],\n",
              "       [69., 50., 56., 68.,  3.],\n",
              "       [ 0., 40., 67.,  0., 48.],\n",
              "       [62., 49.,  8.,  0., 53.]])"
            ]
          },
          "metadata": {},
          "execution_count": 23
        }
      ]
    }
  ]
}